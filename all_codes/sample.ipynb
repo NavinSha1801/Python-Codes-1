{
 "cells": [
  {
   "cell_type": "code",
   "execution_count": 18,
   "metadata": {},
   "outputs": [
    {
     "name": "stdout",
     "output_type": "stream",
     "text": [
      "Hello Everyone!\n"
     ]
    }
   ],
   "source": [
    "print(\"Hello Everyone!\")"
   ]
  },
  {
   "cell_type": "code",
   "execution_count": 1,
   "metadata": {},
   "outputs": [],
   "source": [
    "\n",
    "name = input(\"Enter your name: \")"
   ]
  },
  {
   "cell_type": "code",
   "execution_count": 2,
   "metadata": {},
   "outputs": [],
   "source": [
    "age = int(input(f\"{name}, Enter your age: \"))"
   ]
  },
  {
   "cell_type": "code",
   "execution_count": 3,
   "metadata": {},
   "outputs": [],
   "source": [
    "hobby = input(f\"{name}, Enter your hobby\")"
   ]
  },
  {
   "cell_type": "code",
   "execution_count": 4,
   "metadata": {},
   "outputs": [],
   "source": [
    "fav_sport = input(f\"{name}, Enter your Favorite Sport\")"
   ]
  },
  {
   "cell_type": "code",
   "execution_count": 16,
   "metadata": {},
   "outputs": [
    {
     "name": "stdout",
     "output_type": "stream",
     "text": [
      "Hello Everyone, my name is navin and my age is 19I like chessSport and my hobby is rubik's cube\n"
     ]
    }
   ],
   "source": [
    "print(\"Hello Everyone, my name is \"+ name + \" and my age is \"+ str(age) + \"I like \"+ fav_sport + \"Sport and my hobby is \"+ hobby)"
   ]
  },
  {
   "cell_type": "code",
   "execution_count": 17,
   "metadata": {},
   "outputs": [
    {
     "name": "stdout",
     "output_type": "stream",
     "text": [
      "Hello Everyone, my name is  navin and my age is  19 I like chess Sport and my hobby is  rubik's cube\n"
     ]
    }
   ],
   "source": [
    "print(\"Hello Everyone, my name is \", name, \"and my age is \",str(age), \"I like\", fav_sport,\"Sport and my hobby is \",hobby)"
   ]
  },
  {
   "cell_type": "code",
   "execution_count": 13,
   "metadata": {},
   "outputs": [
    {
     "name": "stdout",
     "output_type": "stream",
     "text": [
      "Hello Everyone, my name is navin and my age is 19. I like chess sport and my hobby is rubik's cube\n"
     ]
    }
   ],
   "source": [
    "print(\"Hello Everyone, my name is {} and my age is {}. I like {} sport and my hobby is {}\".format(name,age,fav_sport,hobby))"
   ]
  },
  {
   "cell_type": "code",
   "execution_count": 14,
   "metadata": {},
   "outputs": [
    {
     "name": "stdout",
     "output_type": "stream",
     "text": [
      "Hello EveryWone, my name is navin and my age is 19. I like chess sport and my hobby is rubik's cube\n"
     ]
    }
   ],
   "source": [
    "print(f\"Hello EveryWone, my name is {name} and my age is {age}. I like {fav_sport} sport and my hobby is {hobby}\")"
   ]
  },
  {
   "cell_type": "code",
   "execution_count": 5,
   "metadata": {},
   "outputs": [
    {
     "name": "stdout",
     "output_type": "stream",
     "text": [
      "Hello World Hello everyone\n"
     ]
    }
   ],
   "source": [
    "print(\"Hello World\",end=\" \")\n",
    "print(\"Hello everyone\")"
   ]
  },
  {
   "cell_type": "code",
   "execution_count": 2,
   "metadata": {},
   "outputs": [
    {
     "name": "stdout",
     "output_type": "stream",
     "text": [
      "Invalid operand\n"
     ]
    }
   ],
   "source": [
    "op = int(input(\"\"\"Press 1 to add\n",
    "press 2 to sub\n",
    "press 3 to mul\n",
    "press 4 to div\n",
    "Enter The operand: \"\"\"))\n",
    "a = int(input(\"Enter the number1: \"))\n",
    "b = int(input(\"Enter the number2:  \"))\n",
    "if  b==0 and op==4:\n",
    "    print(\"B is zero can't divide\")\n",
    "else:\n",
    "    if (op==1):\n",
    "        print(f\"{a}+{b} = {a+b}\")\n",
    "    elif(op==2):\n",
    "        print(f\"{a}-{b} = {a-b}\")\n",
    "    elif(op==3):\n",
    "        print(f\"{a}*{b} = {a*b}\")\n",
    "    elif(op==4):\n",
    "        print(f\"{a}/{b} = {a/b}\")\n",
    "    else:\n",
    "        print(\"Invalid operand\")"
   ]
  },
  {
   "cell_type": "code",
   "execution_count": 5,
   "metadata": {},
   "outputs": [
    {
     "name": "stdout",
     "output_type": "stream",
     "text": [
      "1 \n",
      "1 0 \n",
      "1 0 1 \n",
      "1 0 1 0 \n",
      "1 0 1 0 1 \n"
     ]
    }
   ],
   "source": [
    "a = int(input(\"Enter the Size of pattern: \"))\n",
    "for i in range(a):\n",
    "    for j in range(i+1):\n",
    "        if j%2==0:\n",
    "            print(\"1\",end=\" \")\n",
    "        else:\n",
    "            print(\"0\",end=\" \")\n",
    "    print()"
   ]
  },
  {
   "cell_type": "code",
   "execution_count": 6,
   "metadata": {},
   "outputs": [
    {
     "name": "stdout",
     "output_type": "stream",
     "text": [
      "1 \n",
      "0 0 \n",
      "1 1 1 \n",
      "0 0 0 0 \n",
      "1 1 1 1 1 \n"
     ]
    }
   ],
   "source": [
    "b = int(input(\"Enter the Size of pattern: \"))\n",
    "for i in range(b):\n",
    "    for j in range(i+1):\n",
    "        if i%2==0:\n",
    "            print(\"1\",end=\" \")\n",
    "        else:\n",
    "            print(\"0\",end=\" \")\n",
    "    print()"
   ]
  },
  {
   "cell_type": "code",
   "execution_count": 2,
   "metadata": {},
   "outputs": [
    {
     "data": {
      "text/plain": [
       "False"
      ]
     },
     "execution_count": 2,
     "metadata": {},
     "output_type": "execute_result"
    }
   ],
   "source": [
    "\"\".isdigit()"
   ]
  },
  {
   "cell_type": "code",
   "execution_count": 1,
   "metadata": {},
   "outputs": [
    {
     "name": "stdout",
     "output_type": "stream",
     "text": [
      "1\n",
      "2\n",
      "3\n",
      "5\n",
      "8\n",
      "13\n",
      "21\n",
      "34\n",
      "55\n",
      "89\n",
      "144\n"
     ]
    }
   ],
   "source": [
    "num = int(input(\"Enter the number: \"))\n",
    "num0 = 0\n",
    "num1 = 1\n",
    "i = 0\n",
    "while i<=num:\n",
    "    temp = num0+num1\n",
    "    num0=num1\n",
    "    num1=temp\n",
    "    i += 1\n",
    "    print(temp)"
   ]
  },
  {
   "cell_type": "code",
   "execution_count": 2,
   "metadata": {},
   "outputs": [
    {
     "name": "stdout",
     "output_type": "stream",
     "text": [
      "Number before swapping: a=10,b=20\n",
      "Number after swapping a=20,b=10\n"
     ]
    }
   ],
   "source": [
    "a = int(input(\"Enter the number: \"))\n",
    "b = int(input(\"Enter the number: \"))\n",
    "print(f\"Number before swapping: a={a},b={b}\")\n",
    "temp = b\n",
    "b = a\n",
    "a = temp\n",
    "print(f\"Number after swapping a={a},b={b}\")"
   ]
  },
  {
   "cell_type": "code",
   "execution_count": 6,
   "metadata": {},
   "outputs": [
    {
     "name": "stdout",
     "output_type": "stream",
     "text": [
      "Number before swapping: a=10,b=20\n",
      "Number after swapping: a=20,b=10\n"
     ]
    }
   ],
   "source": [
    "a = int(input(\"Enter the number: \"))\n",
    "b = int(input(\"Enter the number: \"))\n",
    "print(f\"Number before swapping: a={a},b={b}\")\n",
    "a = a+b\n",
    "b = a-b\n",
    "a = a-b\n",
    "print(f\"Number after swapping: a={a},b={b}\")"
   ]
  },
  {
   "cell_type": "code",
   "execution_count": 8,
   "metadata": {},
   "outputs": [
    {
     "name": "stdout",
     "output_type": "stream",
     "text": [
      "THe given number 13 is odd\n"
     ]
    }
   ],
   "source": [
    "num0 = int(input(\"Enter the number to check wether the given n number is even or odd: \"))\n",
    "if num0 % 2:\n",
    "    print(f\"THe given number {num0} is odd\")\n",
    "else:\n",
    "    print(f\"The given number {num0} is even\")"
   ]
  },
  {
   "cell_type": "code",
   "execution_count": 9,
   "metadata": {},
   "outputs": [
    {
     "name": "stdout",
     "output_type": "stream",
     "text": [
      "The area of triangle with height 20.0 and base 10.0 is 100.0\n"
     ]
    }
   ],
   "source": [
    "base = float(input(\"Enter the base of Triangle: \"))\n",
    "height = float(input(\"Enter the height of Triangle: \"))\n",
    "area_of_triangle = 0.5*base*height\n",
    "print(f\"The area of triangle with height {height} and base {base} is {area_of_triangle}\")"
   ]
  },
  {
   "cell_type": "code",
   "execution_count": 5,
   "metadata": {},
   "outputs": [
    {
     "name": "stdout",
     "output_type": "stream",
     "text": [
      "The area of Circle with radius 10.0 is 314.2857142857143\n"
     ]
    }
   ],
   "source": [
    "pi = 22/7\n",
    "radius = input(\"Enter the Radius of Circle: \")\n",
    "while True:\n",
    "    if radius.isdigit():\n",
    "        radius = float(radius)\n",
    "        break\n",
    "    else:\n",
    "        print(\"Kindly Enter Number only\")\n",
    "        radius = input(\"Enter the Radius of Circle again: \")\n",
    "area_of_circle = pi*radius*radius\n",
    "print(f\"The area of Circle with radius {radius} is {area_of_circle}\")"
   ]
  },
  {
   "cell_type": "code",
   "execution_count": 6,
   "metadata": {},
   "outputs": [
    {
     "name": "stdout",
     "output_type": "stream",
     "text": [
      "Kindly Enter alphabets\n",
      "Kindly Enter alphabets\n",
      "Kindly Enter alphabets\n",
      "The given alphabet a is an vowel\n"
     ]
    }
   ],
   "source": [
    "alpha = input(\"Enter an Letter: \")\n",
    "while True:\n",
    "    if alpha.isalpha():\n",
    "        if (alpha=='a',alpha=='e',alpha=='i',alpha=='o',alpha=='u',alpha=='A',alpha=='E',alpha=='I',alpha=='O',alpha=='U'):\n",
    "            print(f\"The given alphabet {alpha} is an vowel\")\n",
    "        else:\n",
    "            print(f\"The given alphabet {alpha} is consonant\")\n",
    "        break\n",
    "    else:\n",
    "        print(\"Kindly Enter alphabets\")\n",
    "        alpha = input(\"Enter the letter again: \")"
   ]
  },
  {
   "cell_type": "code",
   "execution_count": null,
   "metadata": {},
   "outputs": [],
   "source": []
  }
 ],
 "metadata": {
  "interpreter": {
   "hash": "85505e04cd147a8100518bde2dff6a0189380bf51fdf45f5239fc153c93be8bf"
  },
  "kernelspec": {
   "display_name": "Python 3.9.6 64-bit",
   "language": "python",
   "name": "python3"
  },
  "language_info": {
   "codemirror_mode": {
    "name": "ipython",
    "version": 3
   },
   "file_extension": ".py",
   "mimetype": "text/x-python",
   "name": "python",
   "nbconvert_exporter": "python",
   "pygments_lexer": "ipython3",
   "version": "3.10.2"
  },
  "orig_nbformat": 4
 },
 "nbformat": 4,
 "nbformat_minor": 2
}
