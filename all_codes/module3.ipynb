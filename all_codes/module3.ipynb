{
 "cells": [
  {
   "cell_type": "markdown",
   "metadata": {},
   "source": [
    "Q1 What is List? How will you reverse a list?\n",
    "Ans. A list is a data structure in Python that is a mutable, or changeable, ordered sequence of elements. Each element or value that is inside of a list is called an item. Just as strings are defined as characters between quotes, lists are defined by having values between square brackets [ ]. To reverse a list we can use lst[::-1] code\n"
   ]
  },
  {
   "cell_type": "code",
   "execution_count": 2,
   "metadata": {},
   "outputs": [
    {
     "name": "stdout",
     "output_type": "stream",
     "text": [
      "[1, 2, 3, 4, 5, 6, 7, 8]\n"
     ]
    }
   ],
   "source": [
    "#2 How will you remove last object from a list?\n",
    "lst = [1,2,3,4,5,6,7,8,9]\n",
    "lst.pop()\n",
    "print(lst)"
   ]
  },
  {
   "cell_type": "code",
   "execution_count": 3,
   "metadata": {},
   "outputs": [
    {
     "name": "stdout",
     "output_type": "stream",
     "text": [
      "25\n"
     ]
    }
   ],
   "source": [
    "#3 Suppose list1 is [2, 33, 222, 14, and 25], what is list1 [-1]?\n",
    "lst = [2,33,222,14,25]\n",
    "print(lst[-1])"
   ]
  },
  {
   "cell_type": "markdown",
   "metadata": {},
   "source": [
    "Q4 Differentiate between append () and extend () methods?\n",
    "Python append() method adds an element to a list, and the extend() method concatenates the first list with another list (or another iterable). When append() method adds its argument as a single element to the end of a list, the length of the list itself will increase by one. Whereas extend() method iterates over its argument adding each element to the list, extending the list. The length of the list will increase by however many elements were in the iterable argument."
   ]
  },
  {
   "cell_type": "code",
   "execution_count": 4,
   "metadata": {},
   "outputs": [
    {
     "name": "stdout",
     "output_type": "stream",
     "text": [
      "75\n",
      "20\n",
      "1\n"
     ]
    }
   ],
   "source": [
    "#5 Write a Python function to get the largest number,smallest num and sum of all from a list.\n",
    "lst = [1,2,3,4,8,9,10,20,5,6,7]\n",
    "print(sum(lst))\n",
    "print(max(lst))\n",
    "print(min(lst))"
   ]
  },
  {
   "cell_type": "code",
   "execution_count": 5,
   "metadata": {},
   "outputs": [
    {
     "name": "stdout",
     "output_type": "stream",
     "text": [
      "Both List are Equal\n"
     ]
    }
   ],
   "source": [
    "#6 How will you compare two lists?\n",
    "lst1 = [2,1,4,3]\n",
    "lst2 = [1,2,3,4]\n",
    "lst1.sort()\n",
    "lst2.sort()\n",
    "if lst1 == lst2:\n",
    "    print(\"Both List are Equal\")\n",
    "else:\n",
    "    print(\"Both List are un Equal\")"
   ]
  },
  {
   "cell_type": "code",
   "execution_count": 1,
   "metadata": {},
   "outputs": [],
   "source": [
    "'''Q7 Write a Python program to count the number of strings where the string\n",
    "length is 2 or more and the first and last character are same from a given\n",
    "list of strings.''' \n",
    "a = input(\"Enter the String: \")\n"
   ]
  },
  {
   "cell_type": "code",
   "execution_count": 2,
   "metadata": {},
   "outputs": [
    {
     "name": "stdout",
     "output_type": "stream",
     "text": [
      "[1, 2, 3, 4, 5, 6, 7, 8, 9, 10]\n"
     ]
    }
   ],
   "source": [
    "#8 Write a Python program to remove duplicates from a list.\n",
    "lst = [1,1,2,3,4,2,3,5,6,7,8,9,10]\n",
    "lst0 = []\n",
    "for i in lst:\n",
    "    if i not in lst0:\n",
    "        lst0.append(i)\n",
    "    else:\n",
    "        continue\n",
    "print(lst0)"
   ]
  },
  {
   "cell_type": "code",
   "execution_count": 3,
   "metadata": {},
   "outputs": [
    {
     "name": "stdout",
     "output_type": "stream",
     "text": [
      "The list [1, 2, 3, 4, 5, 6, 7, 8, 9] is not empty\n"
     ]
    }
   ],
   "source": [
    "#9 Write a Python program to check a list is empty or not.\n",
    "lst = [1,2,3,4,5,6,7,8,9]\n",
    "if len(lst) > 0:\n",
    "    print(f\"The list {lst} is not empty\")\n",
    "else:\n",
    "    print(f\"The list {lst} is empty\")"
   ]
  },
  {
   "cell_type": "code",
   "execution_count": 6,
   "metadata": {},
   "outputs": [
    {
     "name": "stdout",
     "output_type": "stream",
     "text": [
      "The List has common variables\n"
     ]
    }
   ],
   "source": [
    "'''Q10 Write a Python function that takes two lists and returns true if they have\n",
    "at least one common member.'''\n",
    "lst0 = [1,2,3,4,5,6,7,8,9,10]\n",
    "lst1 = [9,10,11,12,13,14,15,16,17]\n",
    "for i in lst0:\n",
    "    if i in lst1:\n",
    "        print(\"The List has common variables\")\n",
    "        break\n",
    "    else:\n",
    "        temp = 1\n",
    "if temp == 0:\n",
    "    print(\"The list dosen't contain common varaiables\")"
   ]
  },
  {
   "cell_type": "code",
   "execution_count": 1,
   "metadata": {},
   "outputs": [
    {
     "name": "stdout",
     "output_type": "stream",
     "text": [
      "[1, 4, 9, 16, 25, 625, 676, 729, 784, 841, 900]\n"
     ]
    }
   ],
   "source": [
    "'''Q11 Write a Python program to generate and print a list of first and last 5\n",
    "elements where the values are square of numbers between 1 and 30'''\n",
    "lst = []\n",
    "for i in range(1,31):\n",
    "    if i<=5 or i>24:\n",
    "        lst.append(i**2)\n",
    "print(lst)"
   ]
  },
  {
   "cell_type": "code",
   "execution_count": 2,
   "metadata": {},
   "outputs": [
    {
     "name": "stdout",
     "output_type": "stream",
     "text": [
      "[1, 2, 3, 4, 5, 6, 43, 0, -1, -2, -45]\n"
     ]
    }
   ],
   "source": [
    "'''Q12 Write a Python function that takes a list and returns a new list with unique\n",
    "elements of the first list.'''\n",
    "lst = [1,2,3,4,5,6,5,43,2,1,0,-1,-2,-1,-45]\n",
    "lst0 = []\n",
    "for i in lst:\n",
    "    if i not in lst0:\n",
    "        lst0.append(i)\n",
    "    else:\n",
    "        continue\n",
    "print(lst0)"
   ]
  },
  {
   "cell_type": "code",
   "execution_count": 5,
   "metadata": {},
   "outputs": [
    {
     "name": "stdout",
     "output_type": "stream",
     "text": [
      "abcdef\n"
     ]
    }
   ],
   "source": [
    "'''Q13 Write a Python program to convert a list of characters into a string. '''\n",
    "lst = ['a','b','c','d','e','f']\n",
    "str = \"\".join(lst)\n",
    "print(str)\n"
   ]
  },
  {
   "cell_type": "code",
   "execution_count": 12,
   "metadata": {},
   "outputs": [
    {
     "name": "stdout",
     "output_type": "stream",
     "text": [
      "4\n"
     ]
    }
   ],
   "source": [
    "'''Q14 Write a Python program to select an item randomly from a list.'''\n",
    "import random\n",
    "lst = [1,2,3,4,'a',6,'e','i',-1,-12,1/4]\n",
    "rand_int = random.randint(1,(len(lst)-1))\n",
    "print(lst[rand_int])"
   ]
  },
  {
   "cell_type": "code",
   "execution_count": 16,
   "metadata": {},
   "outputs": [
    {
     "name": "stdout",
     "output_type": "stream",
     "text": [
      "2\n",
      "[2, 3, 4, 5, 6, 7, 8, 9, 1]\n"
     ]
    }
   ],
   "source": [
    "'''Q15 Write a Python program to find the second smallest number in a list'''\n",
    "lst = [1,2,3,4,5,6,7,8,9]\n",
    "a = min(lst)\n",
    "lst.remove(a)\n",
    "b = min(lst)\n",
    "lst.append(a)\n",
    "print(b)\n",
    "print(lst)\n"
   ]
  },
  {
   "cell_type": "code",
   "execution_count": 17,
   "metadata": {},
   "outputs": [
    {
     "name": "stdout",
     "output_type": "stream",
     "text": [
      "[1, 2, 3, 4, 5, 6, 43, 0, -1, -2, -45]\n"
     ]
    }
   ],
   "source": [
    "'''Q16 Write a Python program to get unique values from a list'''\n",
    "lst = [1,2,3,4,5,6,5,43,2,1,0,-1,-2,-1,-45]\n",
    "lst0 = []\n",
    "for i in lst:\n",
    "    if i not in lst0:\n",
    "        lst0.append(i)\n",
    "    else:\n",
    "        continue\n",
    "print(lst0)"
   ]
  },
  {
   "cell_type": "code",
   "execution_count": 21,
   "metadata": {},
   "outputs": [
    {
     "name": "stdout",
     "output_type": "stream",
     "text": [
      "The list contain substring [1, 2, 3, 4, 5]\n",
      "The list contain substring [10, 9, 8, 7, 6, 5]\n"
     ]
    }
   ],
   "source": [
    "'''Q17 Write a Python program to check whether a list contains a sub list'''\n",
    "lst = [1,2,3,4,5,[1,2,3,4,5],7,8,9,[10,9,8,7,6,5],15,20,30]\n",
    "for i in lst:\n",
    "    if type(i) is not int:\n",
    "        print(f\"The list contain substring {i}\")\n",
    "    else:\n",
    "        continue"
   ]
  },
  {
   "cell_type": "code",
   "execution_count": 1,
   "metadata": {},
   "outputs": [
    {
     "ename": "SyntaxError",
     "evalue": "cannot assign to function call here. Maybe you meant '==' instead of '='? (3535366595.py, line 5)",
     "output_type": "error",
     "traceback": [
      "\u001b[1;36m  Input \u001b[1;32mIn [1]\u001b[1;36m\u001b[0m\n\u001b[1;33m    chr(var) = i\u001b[0m\n\u001b[1;37m    ^\u001b[0m\n\u001b[1;31mSyntaxError\u001b[0m\u001b[1;31m:\u001b[0m cannot assign to function call here. Maybe you meant '==' instead of '='?\n"
     ]
    }
   ],
   "source": [
    "'''Q18 Write a Python program to split a list into different variables.'''\n",
    "lst = [1,2,3,4,5,6,7,8,9]\n",
    "var = 65\n",
    "for i in lst:\n",
    "    chr(var) = i\n",
    "    print(chr(var))\n",
    "    \n",
    "        \n",
    "    "
   ]
  },
  {
   "cell_type": "markdown",
   "metadata": {},
   "source": [
    "Q19 What is tuple? Difference between list and tuple\n"
   ]
  },
  {
   "cell_type": "code",
   "execution_count": null,
   "metadata": {},
   "outputs": [],
   "source": [
    "'''Q20 Write a Python program to create a tuple with different data types.'''\n",
    "tup = (1,2,3,-1,-2,-3,0.1,0.2,\"one\",\"two\",\"3\")\n",
    "print(tup)"
   ]
  },
  {
   "cell_type": "code",
   "execution_count": null,
   "metadata": {},
   "outputs": [],
   "source": [
    "''' Q21 Write a Python program to create a tuple with numbers'''\n",
    "tup = (1,2,3,4,5,6,7,8,9,10)\n",
    "print(tup)"
   ]
  },
  {
   "cell_type": "code",
   "execution_count": 25,
   "metadata": {},
   "outputs": [
    {
     "name": "stdout",
     "output_type": "stream",
     "text": [
      "abcdef\n"
     ]
    }
   ],
   "source": [
    "''' Q22 Write a Python program to convert a tuple to a string.'''\n",
    "tup = ('a','b','c','d','e','f')\n",
    "a = \"\".join(tup)\n",
    "print(a)"
   ]
  },
  {
   "cell_type": "code",
   "execution_count": 36,
   "metadata": {},
   "outputs": [
    {
     "name": "stdout",
     "output_type": "stream",
     "text": [
      "Number/Character is available \n"
     ]
    }
   ],
   "source": [
    "'''  Q23 Write a Python program to check whether an element exists within a\n",
    "tuple.'''\n",
    "tup = ('a','b','c','d','e','f',1,2,3,4,5,6)\n",
    "a = input(\"Enter the character/number: \")\n",
    "bool = True\n",
    "for i in tup:\n",
    "    if type(i) is int or float:\n",
    "        a = int(a)\n",
    "    else:\n",
    "        continue\n",
    "    if a == i:\n",
    "        bool = True\n",
    "        break\n",
    "    else:\n",
    "        bool = False\n",
    "if bool:\n",
    "    print(\"Number/Character is available \")  \n",
    "else:\n",
    "    print(\"Number/Character is not available Sorry\")\n"
   ]
  },
  {
   "cell_type": "code",
   "execution_count": 37,
   "metadata": {},
   "outputs": [
    {
     "name": "stdout",
     "output_type": "stream",
     "text": [
      "The Length of Tuple is 12\n"
     ]
    }
   ],
   "source": [
    "'''Q24 Write a Python program to find the length of a tuple.'''\n",
    "tup = tup = ('a','b','c','d','e','f',1,2,3,4,5,6)\n",
    "len_tup = len(tup)\n",
    "print(f\"The Length of Tuple is {len_tup}\")"
   ]
  },
  {
   "cell_type": "code",
   "execution_count": 38,
   "metadata": {},
   "outputs": [
    {
     "name": "stdout",
     "output_type": "stream",
     "text": [
      "['a', 'b', 'c', 'd', 'e', 'f', 1, 2, 3, 4, 5, 6]\n"
     ]
    }
   ],
   "source": [
    "'''Q25 Write a Python program to convert a list to a tuple.'''\n",
    "tup = tup = ('a','b','c','d','e','f',1,2,3,4,5,6)\n",
    "lst = []\n",
    "for i in tup:\n",
    "    lst.append(i)\n",
    "print(lst)"
   ]
  },
  {
   "cell_type": "code",
   "execution_count": 39,
   "metadata": {},
   "outputs": [
    {
     "name": "stdout",
     "output_type": "stream",
     "text": [
      "(6, 5, 4, 3, 2, 1, 'f', 'e', 'd', 'c', 'b', 'a')\n"
     ]
    }
   ],
   "source": [
    "'''Q26 Write a Python program to reverse a tuple.'''\n",
    "tup = ('a','b','c','d','e','f',1,2,3,4,5,6)\n",
    "print(tup[::-1])"
   ]
  },
  {
   "cell_type": "code",
   "execution_count": 41,
   "metadata": {},
   "outputs": [
    {
     "name": "stdout",
     "output_type": "stream",
     "text": [
      "('a', 'b', 'c', 'd', 'e', 'f', 1, 2, 3, 4, 5, ['1', '2', '3'])\n"
     ]
    }
   ],
   "source": [
    "'''Q27 Write a Python program to replace last value of tuples in a list. '''\n",
    "tup = ('a','b','c','d','e','f',1,2,3,4,5,6)\n",
    "lst = []\n",
    "len_lst = input(\"Enter the length od list\")\n",
    "while True:\n",
    "    if len_lst.isdigit():\n",
    "        len_lst = int(len_lst)\n",
    "        break\n",
    "    else:\n",
    "        print(\"Kindly Enter Integer only\")\n",
    "for i in range(0,len_lst+1):\n",
    "    temp0 = input(f\"Enter the {i}th element: \")\n",
    "    lst.append(temp0)\n",
    "tup = list(tup)\n",
    "tup.pop()\n",
    "tup.append(lst)\n",
    "tup = tuple(tup)\n",
    "print(tup)"
   ]
  },
  {
   "cell_type": "code",
   "execution_count": 45,
   "metadata": {},
   "outputs": [
    {
     "name": "stdout",
     "output_type": "stream",
     "text": [
      "The Repeated items are [2, 3, 4, 5]\n"
     ]
    }
   ],
   "source": [
    "'''Q28 Write a Python program to find the repeated items of a tuple.'''\n",
    "tup = ('a','b','c','d','e','f',1,2,3,4,5,6,2,3,4,5)\n",
    "lst = []\n",
    "lst0 = []\n",
    "for i in tup:\n",
    "    if i not in lst:\n",
    "        lst.append(i)\n",
    "    else:\n",
    "        lst0.append(i)\n",
    "        continue\n",
    "print(f\"The Repeated items are {lst0}\")"
   ]
  },
  {
   "cell_type": "code",
   "execution_count": 6,
   "metadata": {},
   "outputs": [
    {
     "name": "stdout",
     "output_type": "stream",
     "text": [
      "((20, 19, 18, 17), (16, 15, 14, 13), (10, 9, 8, 7, 6), (5, 4), (3, 2, 1))\n"
     ]
    }
   ],
   "source": [
    "'''Q29 Write a Python program to remove an empty tuple(s) from a list of tuples'''\n",
    "tup = ((),(20,19,18,17),(16,15,14,13),(10,9,8,7,6),(5,4),(3,2,1))\n",
    "lst = (list)(tup)\n",
    "for i in lst:\n",
    "    if len(i)==0:\n",
    "        lst.remove(i)\n",
    "    else:\n",
    "        continue\n",
    "lst = tuple(lst)\n",
    "print(lst)"
   ]
  },
  {
   "cell_type": "code",
   "execution_count": 12,
   "metadata": {},
   "outputs": [
    {
     "name": "stdout",
     "output_type": "stream",
     "text": [
      "[[20, 19, 18, 17], [16, 15, 14, 13], [10, 9, 8, 7, 6], [5, 4], [3, 2, 1]]\n"
     ]
    }
   ],
   "source": [
    "'''Q30 Write a Python program to unzip a list of tuples into individual lists'''\n",
    "tup = [(20, 19, 18, 17), (16, 15, 14, 13), (10, 9, 8, 7, 6), (5, 4), (3, 2, 1)]\n",
    "lst  = []\n",
    "for i in tup:\n",
    "    i = list(i)\n",
    "    lst.append(i)\n",
    "print(lst)\n",
    "\n",
    "\n"
   ]
  },
  {
   "cell_type": "code",
   "execution_count": 16,
   "metadata": {},
   "outputs": [
    {
     "name": "stdout",
     "output_type": "stream",
     "text": [
      "{0: (20, 19, 18, 17), 1: (16, 15, 14, 13), 2: (10, 9, 8, 7, 6), 3: (5, 4), 4: (3, 2, 1)}\n"
     ]
    }
   ],
   "source": [
    "'''Q31 Write a Python program to convert a list of tuples into a dictionary.'''\n",
    "tup = ((20, 19, 18, 17), (16, 15, 14, 13), (10, 9, 8, 7, 6), (5, 4), (3, 2, 1))\n",
    "dic = {}\n",
    "j = 0\n",
    "for i in tup:\n",
    "    dic[j] = i\n",
    "    j += 1\n",
    "print(dic)"
   ]
  },
  {
   "cell_type": "code",
   "execution_count": 5,
   "metadata": {},
   "outputs": [
    {
     "name": "stdout",
     "output_type": "stream",
     "text": [
      "{1: 'a', 2: 'b'}\n"
     ]
    }
   ],
   "source": [
    "'''Q32 How will you create a dictionary using tuples in python?'''\n",
    "tup = ((20, 19, 18, 17), (16, 15, 14, 13), (10, 9, 8, 7, 6), (5, 4), (3, 2, 1))\n",
    "dic = {}\n",
    "j = 0\n",
    "for i in tup:\n",
    "    dic[j] = i\n",
    "    j += 1\n",
    "print(dic)\n"
   ]
  },
  {
   "cell_type": "code",
   "execution_count": 18,
   "metadata": {},
   "outputs": [
    {
     "name": "stdout",
     "output_type": "stream",
     "text": [
      "{2: 3, 1: 2, 3: 1}\n"
     ]
    }
   ],
   "source": [
    "'''Q33 Write a Python script to sort (ascending and descending) a dictionary by\n",
    "value.'''\n",
    "dict2 = {2:3,1:2,3:1}\n",
    "dict0  = sorted(dict2.values())\n",
    "dict1  = sorted(dict2.items(), reverse=True)\n",
    "dict_temp = {}\n",
    "for i,j in dict2.items():\n",
    "    dict_temp[i] = j\n",
    "print(dict_temp)\n"
   ]
  },
  {
   "cell_type": "code",
   "execution_count": 1,
   "metadata": {},
   "outputs": [
    {
     "ename": "TypeError",
     "evalue": "'dict' object is not callable",
     "output_type": "error",
     "traceback": [
      "\u001b[1;31m---------------------------------------------------------------------------\u001b[0m",
      "\u001b[1;31mTypeError\u001b[0m                                 Traceback (most recent call last)",
      "\u001b[1;32md:\\py codes\\module3.ipynb Cell 34'\u001b[0m in \u001b[0;36m<cell line: 5>\u001b[1;34m()\u001b[0m\n\u001b[0;32m      <a href='vscode-notebook-cell:/d%3A/py%20codes/module3.ipynb#ch0000033?line=2'>3</a>\u001b[0m dict0 \u001b[39m=\u001b[39m {\u001b[39m2\u001b[39m:\u001b[39m3\u001b[39m,\u001b[39m1\u001b[39m:\u001b[39m2\u001b[39m,\u001b[39m3\u001b[39m:\u001b[39m1\u001b[39m}\n\u001b[0;32m      <a href='vscode-notebook-cell:/d%3A/py%20codes/module3.ipynb#ch0000033?line=3'>4</a>\u001b[0m dict1 \u001b[39m=\u001b[39m {\u001b[39m1\u001b[39m:\u001b[39m'\u001b[39m\u001b[39ma\u001b[39m\u001b[39m'\u001b[39m,\u001b[39m2\u001b[39m:\u001b[39m'\u001b[39m\u001b[39mb\u001b[39m\u001b[39m'\u001b[39m}\n\u001b[1;32m----> <a href='vscode-notebook-cell:/d%3A/py%20codes/module3.ipynb#ch0000033?line=4'>5</a>\u001b[0m dict_new \u001b[39m=\u001b[39m dict0(dict1)\n\u001b[0;32m      <a href='vscode-notebook-cell:/d%3A/py%20codes/module3.ipynb#ch0000033?line=5'>6</a>\u001b[0m \u001b[39mprint\u001b[39m()\n",
      "\u001b[1;31mTypeError\u001b[0m: 'dict' object is not callable"
     ]
    }
   ],
   "source": [
    "'''Q34 Write a Python script to concatenate following dictionaries to create a\n",
    "new one'''\n",
    "dict0 = {2:3,1:2,3:1}\n",
    "dict1 = {1:'a',2:'b'}\n",
    "dict_new = {}\n",
    "\n",
    "print()"
   ]
  },
  {
   "cell_type": "code",
   "execution_count": 4,
   "metadata": {},
   "outputs": [
    {
     "name": "stdout",
     "output_type": "stream",
     "text": [
      "The given key is available in dictonary at 1 locations\n"
     ]
    }
   ],
   "source": [
    "'''Q35  Write a Python script to check if a given key already exists in a dictionary'''\n",
    "dict0 = {1:'one',1:'Two',3:'Three',4:'Four',1:'One'}\n",
    "check = int(input(\"Enter your key to check wether it is exist or not: \"))\n",
    "bool = False\n",
    "temp =0\n",
    "for i in dict0.keys():\n",
    "    if i == check:\n",
    "        temp += 1\n",
    "        bool = True\n",
    "    else:\n",
    "        continue\n",
    "if bool == True:\n",
    "    print(f\"The given key is available in dictonary at {temp} locations\")\n",
    "else:\n",
    "    print(f\"The given key is not available \")\n",
    "\n"
   ]
  },
  {
   "cell_type": "code",
   "execution_count": null,
   "metadata": {},
   "outputs": [],
   "source": []
  }
 ],
 "metadata": {
  "interpreter": {
   "hash": "26de051ba29f2982a8de78e945f0abaf191376122a1563185a90213a26c5da77"
  },
  "kernelspec": {
   "display_name": "Python 3.10.2 64-bit",
   "language": "python",
   "name": "python3"
  },
  "language_info": {
   "codemirror_mode": {
    "name": "ipython",
    "version": 3
   },
   "file_extension": ".py",
   "mimetype": "text/x-python",
   "name": "python",
   "nbconvert_exporter": "python",
   "pygments_lexer": "ipython3",
   "version": "3.10.2"
  },
  "orig_nbformat": 4
 },
 "nbformat": 4,
 "nbformat_minor": 2
}
