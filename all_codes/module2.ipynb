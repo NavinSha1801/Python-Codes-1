{
 "cells": [
  {
   "cell_type": "code",
   "execution_count": null,
   "metadata": {},
   "outputs": [],
   "source": [
    "#1 Write a Python program to check if a number is positive, negative or zero.\n",
    "a = input(\"Enter the number: \")\n",
    "while True:\n",
    "    if a.isdigit():\n",
    "        a = (int)(a)\n",
    "        break\n",
    "    else:\n",
    "        print(\"Kindly Enter Number only\")\n",
    "        a = input(\"Enter the number again: \")\n",
    "if a>0:\n",
    "    print(f\"The given number {a} is positive\")\n",
    "elif a<0:\n",
    "    print(f\"The given number {a} is negative\")\n",
    "else:\n",
    "    print(f\"The given number {a} is Zero\")\n"
   ]
  },
  {
   "cell_type": "code",
   "execution_count": 3,
   "metadata": {},
   "outputs": [
    {
     "name": "stdout",
     "output_type": "stream",
     "text": [
      "The factorial of given number 5 is 120\n"
     ]
    }
   ],
   "source": [
    "#2 Write a Python program to get the Factorial number of given number.\n",
    "a = input(\"Enter the number: \")\n",
    "temp = 1\n",
    "temp0 = int(a)\n",
    "while True:\n",
    "    if a.isdigit():\n",
    "        a = (int)(a)\n",
    "        break\n",
    "    else:\n",
    "        print(\"Kindly Enter Number only\")\n",
    "        a = input(\"Enter the number again: \")\n",
    "while a>0:\n",
    "    temp = temp * a\n",
    "    a -= 1\n",
    "print(f\"The factorial of given number {temp0} is {temp}\")\n"
   ]
  },
  {
   "cell_type": "code",
   "execution_count": 10,
   "metadata": {},
   "outputs": [
    {
     "name": "stdout",
     "output_type": "stream",
     "text": [
      "The Series is 0,1,1,2,3,5,8,13,21,34,55,89,...\n"
     ]
    }
   ],
   "source": [
    "#3 Write a Python program to get the Fibonacci series of given range\n",
    "a = input(\"Enter the number: \")\n",
    "a0 = 0\n",
    "a1 = 1\n",
    "while True:\n",
    "    if a.isdigit():\n",
    "        a = (int)(a)\n",
    "        break\n",
    "    else:\n",
    "        print(\"Kindly Enter Number only\")\n",
    "        a = input(\"Enter the number again: \")\n",
    "print(f\"The Series is {a0},{a1}\",end=\",\")\n",
    "for i in range(a):\n",
    "    temp = a0 + a1\n",
    "    a0 = a1\n",
    "    a1 = temp\n",
    "    print(temp, end = \",\")\n",
    "print(\"...\")\n",
    "\n"
   ]
  },
  {
   "cell_type": "markdown",
   "metadata": {},
   "source": [
    "Q4. How memory is managed in Python?\n",
    "Ans. The Python memory manager manages chunks of memory called “Blocks”. A collection of blocks of the same size makes up the “Pool”. Pools are created on Arenas, chunks of 256kB memory allocated on heap=64 pools. If the objects get destroyed, the memory manager fills this space with a new object of the same size"
   ]
  },
  {
   "cell_type": "markdown",
   "metadata": {},
   "source": [
    "Q5. What is the purpose continue statement in python?\n",
    "Ans. The continue statement gives you the option to skip over the part of a loop where an external condition is triggered, but to go on to complete the rest of the loop."
   ]
  },
  {
   "cell_type": "code",
   "execution_count": 11,
   "metadata": {},
   "outputs": [
    {
     "name": "stdout",
     "output_type": "stream",
     "text": [
      "Number before swapping 10 20\n",
      "Number after 1st Swapping 20 10\n",
      "Number after 2nd swapping 10 20\n"
     ]
    }
   ],
   "source": [
    "#6 Write python program that swap two number with temp variable and without temp variable.\n",
    "a = input(\"Enter the 1st number: \")\n",
    "b = input(\"Enter the 2nd Number: \")\n",
    "while True:\n",
    "    if a.isdigit() and b.isdigit():\n",
    "        a = (int)(a)\n",
    "        b = (int)(b)\n",
    "        break\n",
    "    else:\n",
    "        print(\"Kindly Enter Number only\")\n",
    "        a = input(\"Enter the 1st number again: \")\n",
    "        b = input(\"Enter the 2nd Number again: \")\n",
    "print(f\"Number before swapping {a} {b}\")\n",
    "temp = a\n",
    "a = b \n",
    "b = temp\n",
    "print(f\"Number after 1st Swapping with temp variable {a} {b}\")\n",
    "a = a + b\n",
    "b = a - b\n",
    "a = a - b\n",
    "print(f\"Number after 2nd swapping without temp variable {a} {b}\")"
   ]
  },
  {
   "cell_type": "code",
   "execution_count": 2,
   "metadata": {},
   "outputs": [
    {
     "name": "stdout",
     "output_type": "stream",
     "text": [
      "The given Number 2 is Even Number\n"
     ]
    }
   ],
   "source": [
    "#7 Write a Python program to find whether a given number is even or odd,print out an appropriate message to the user.\n",
    "a = input(\"Enter the number: \")\n",
    "while True:\n",
    "    if a.isdigit():\n",
    "        a = (int)(a)\n",
    "        break\n",
    "    else:\n",
    "        print(\"Kindly Enter Number only\")\n",
    "        a = input(\"Enter the number again: \")\n",
    "if a % 2 :\n",
    "    print(f\"The given Number {a} is Odd Number\")\n",
    "else:\n",
    "    print(f\"The given Number {a} is Even Number\")"
   ]
  },
  {
   "cell_type": "code",
   "execution_count": 1,
   "metadata": {},
   "outputs": [
    {
     "name": "stdout",
     "output_type": "stream",
     "text": [
      "Kindly Enter Character only\n",
      "Kindly Enter Character only\n",
      "The given character a is Vowel\n"
     ]
    }
   ],
   "source": [
    "#8 Write a Python program to test whether a passed letter is a vowel or not\n",
    "a = input(\"Enter the Character: \")\n",
    "while True:\n",
    "    if a.isalpha() and len(a) == 1:\n",
    "        break\n",
    "    else:\n",
    "        print(\"Kindly Enter Character only\")\n",
    "        a = input(\"Enter the Character again: \")\n",
    "if a == 'A' or a == 'a' or a == 'e' or a == 'E' or a == 'i' or a == 'I' or a == 'o' or a == 'O' or a == 'u' or a == 'U':\n",
    "    print(f\"The given character {a} is Vowel\")\n",
    "else:\n",
    "    print(f\"The given character {a} is Consonant\")\n"
   ]
  },
  {
   "cell_type": "code",
   "execution_count": 5,
   "metadata": {},
   "outputs": [
    {
     "name": "stdout",
     "output_type": "stream",
     "text": [
      "The sum of given numbers 10,10,20 is 0\n"
     ]
    }
   ],
   "source": [
    "#9 Write a Python program to sum of three given integers.However, if two values are equal sum will be zero.\n",
    "a = input(\"Enter the 1st number: \")\n",
    "b = input(\"Enter the 2nd Number: \")\n",
    "c = input(\"Enter the 3rd Number: \")\n",
    "while True:\n",
    "    if a.isdigit() and b.isdigit() and c.isdigit():\n",
    "        a = (int)(a)\n",
    "        b = (int)(b)\n",
    "        c = (int)(c)\n",
    "        break\n",
    "    else:\n",
    "        print(\"Kindly Enter Number only\")\n",
    "        a = input(\"Enter the 1st number again: \")\n",
    "        b = input(\"Enter the 2nd Number again: \")\n",
    "        c = input(\"Enter the 3rd Number again: \")\n",
    "if a == b or a == c or b == c:\n",
    "    print(f\"The sum of given numbers {a},{b},{c} is 0\")\n",
    "else:\n",
    "    print(f\"The sum of given number {a},{b},{c} is {a+b+c}\")"
   ]
  },
  {
   "cell_type": "code",
   "execution_count": 8,
   "metadata": {},
   "outputs": [
    {
     "name": "stdout",
     "output_type": "stream",
     "text": [
      "False\n"
     ]
    }
   ],
   "source": [
    " #10 Write a Python program that will return true ifthe two given integervalues are equal or their sum or difference is 5.\n",
    "a = input(\"Enter the 1st number: \")\n",
    "b = input(\"Enter the 2nd Number: \")\n",
    "bool = False\n",
    "while True:\n",
    "    if a.isdigit() and b.isdigit():\n",
    "        a = (int)(a)\n",
    "        b = (int)(b)\n",
    "        break\n",
    "    else:\n",
    "        print(\"Kindly Enter Number only\")\n",
    "        a = input(\"Enter the 1st number again: \")\n",
    "        b = input(\"Enter the 2nd Number again: \")\n",
    "if a == b or a + b == 5 or a - b == 5:\n",
    "    bool = True\n",
    "    print(f\"{bool}\")\n",
    "else:\n",
    "    print(f\"{bool}\")"
   ]
  },
  {
   "cell_type": "code",
   "execution_count": 23,
   "metadata": {},
   "outputs": [
    {
     "name": "stdout",
     "output_type": "stream",
     "text": [
      "The sum of 10 integers is 55\n"
     ]
    }
   ],
   "source": [
    "# 11 Write a python program to sum of the first n positive integers.\n",
    "a = input(\"Enter the number: \")\n",
    "temp = 0\n",
    "while True:\n",
    "    if a.isdigit():\n",
    "        a = (int)(a)\n",
    "        break\n",
    "    else:\n",
    "        print(\"Kindly Enter Number only\")\n",
    "        a = input(\"Enter the number again: \")\n",
    "for i in range(a+1):\n",
    "    temp = temp + i\n",
    "print(f\"The sum of {a} integers is {temp}\")\n"
   ]
  },
  {
   "cell_type": "code",
   "execution_count": 4,
   "metadata": {},
   "outputs": [
    {
     "name": "stdout",
     "output_type": "stream",
     "text": [
      "The length of String 'hello everone' is 13\n"
     ]
    }
   ],
   "source": [
    "#12 Write a Python program to calculate the length of a string.\n",
    "a = input(\"Enter the String: \")\n",
    "temp = 0\n",
    "for i in a:\n",
    "    temp += 1\n",
    "print(f\"The length of String \\'{a}\\' is {temp}\")\n"
   ]
  },
  {
   "cell_type": "code",
   "execution_count": 6,
   "metadata": {},
   "outputs": [
    {
     "name": "stdout",
     "output_type": "stream",
     "text": [
      "{'g': 2, 'o': 3, 'l': 1, 'e': 1, '.': 1, 'c': 1, 'm': 1}\n"
     ]
    }
   ],
   "source": [
    "#13 Write a Python program to count the number of characters (character frequency) in a string\n",
    "a = input(\"Enter the String: \")\n",
    "dic = {}\n",
    "for i in a:\n",
    "    temp = a.count(i)\n",
    "    if i not in dic:\n",
    "        dic[i] = temp\n",
    "    else:\n",
    "        continue\n",
    "print(dic)"
   ]
  },
  {
   "cell_type": "markdown",
   "metadata": {},
   "source": [
    "Q14. What are negative indexes and why are they used?\n",
    "Ans.The negative index is used to remove any new-line spaces from the string and allow the string to except the last character that is given as S[:-1]. The negative index is also used to show the index to represent the string in correct order. \n"
   ]
  },
  {
   "cell_type": "code",
   "execution_count": 17,
   "metadata": {},
   "outputs": [
    {
     "name": "stdout",
     "output_type": "stream",
     "text": [
      "Number of occurence of Substring i is 3\n"
     ]
    }
   ],
   "source": [
    "#15 Write a Python program to count occurrences of a substring in a string.\n",
    "a = input(\"Enter the String: \")\n",
    "lst = a.split(\" \")\n",
    "b = input(\"Enter the Substring: \")\n",
    "dic = {}\n",
    "for i in lst:\n",
    "    temp = lst.count(i)\n",
    "    if i not in dic:\n",
    "        dic[i] = temp\n",
    "    else:\n",
    "        continue\n",
    "if b in dic.keys():\n",
    "    print(f\"Number of occurence of Substring {b} is {dic[b]}\")\n",
    "else:\n",
    "    print(f\"No match found of word {b}\")\n"
   ]
  },
  {
   "cell_type": "code",
   "execution_count": 33,
   "metadata": {},
   "outputs": [
    {
     "name": "stdout",
     "output_type": "stream",
     "text": [
      "{'hello': 1}\n"
     ]
    }
   ],
   "source": [
    "#16 Write a Python program to count the occurrences of each word in a given sentence\n",
    "a = input(\"Enter the String: \")\n",
    "lst = a.split(\" \")\n",
    "dic = {}\n",
    "for i in lst:\n",
    "    temp = lst.count(i)\n",
    "    if i not in dic:\n",
    "        dic[i] = temp\n",
    "    else:\n",
    "        continue\n",
    "print(dic)"
   ]
  },
  {
   "cell_type": "code",
   "execution_count": 2,
   "metadata": {},
   "outputs": [
    {
     "name": "stdout",
     "output_type": "stream",
     "text": [
      "eello  hveryone\n"
     ]
    }
   ],
   "source": [
    "'''Q17 Write a Python program to get a single string from two given strings, \n",
    "separated by a space and swap the first two characters of each string.'''\n",
    "a = input(\"Enter the 1st Letter: \")\n",
    "b = input(\"Enter the 2nd Letter: \")\n",
    "new_a = a[:1] + b[1:]\n",
    "new_b = b[:1] + a[1:]\n",
    "\n",
    "print(f\"{new_b} {new_a}\")"
   ]
  },
  {
   "cell_type": "code",
   "execution_count": 25,
   "metadata": {},
   "outputs": [
    {
     "name": "stdout",
     "output_type": "stream",
     "text": [
      "endly\n"
     ]
    }
   ],
   "source": [
    "'''Q18 Write a Python program to add 'ing' at the end of a given string (length\n",
    "should be at least 3). If the given string already ends with 'ing' then add 'ly'\n",
    "insteadif the string length of the given string is less than 3, leave it\n",
    "unchanged.\n",
    "'''\n",
    "a = input(\"Enter a Word: \")\n",
    "if len(a) >= 3:\n",
    "    if a.endswith('ing'):\n",
    "        print(f\"{a.removesuffix('ing')}ly\")\n",
    "    elif a is not a.endswith('ing'):\n",
    "        print(f\"{a}ing\")\n",
    "    else:\n",
    "        print(f\"{a}\")\n",
    "else:\n",
    "    print(a)"
   ]
  },
  {
   "cell_type": "code",
   "execution_count": 29,
   "metadata": {},
   "outputs": [
    {
     "name": "stdout",
     "output_type": "stream",
     "text": [
      "Previous String: 'i am very poor and bad guy'\n"
     ]
    },
    {
     "data": {
      "text/plain": [
       "'i am very good and good guy'"
      ]
     },
     "execution_count": 29,
     "metadata": {},
     "output_type": "execute_result"
    }
   ],
   "source": [
    "'''Q19 Write a Python program to find the first appearance of the substring 'not'\n",
    "and 'poor' froma given string, if 'not' follows the 'poor', replace the whole\n",
    "'not'...'poor'substring with 'good'. Return the resulting string.'''\n",
    "a = input(\"Enter the String: \")\n",
    "lst = a.split(' ')\n",
    "print(f\"Previous String: \\'{a}\\'\")\n",
    "for i in lst:\n",
    "    if i == 'not' or i == 'poor':\n",
    "        lst[lst.index(i)] = 'good'\n",
    "    else:\n",
    "        continue\n",
    "' '.join(lst)"
   ]
  },
  {
   "cell_type": "code",
   "execution_count": 3,
   "metadata": {},
   "outputs": [
    {
     "name": "stdout",
     "output_type": "stream",
     "text": [
      "The longest Substring in the given string 'hello evryone how are u' is 'evryone' of which size of sub string is 7\n"
     ]
    }
   ],
   "source": [
    "#20 Write a Python function that takes a list of words and returns the length of the longest one.\n",
    "a = input(\"Enter the String: \")\n",
    "lst = a.split(' ')\n",
    "temp = 0\n",
    "for i in lst:\n",
    "    if temp < len(i):\n",
    "        temp = len(i)\n",
    "        b = lst.index(i)\n",
    "    else:\n",
    "        continue\n",
    "print(f\"The longest Substring in the given string \\'{a}\\' is \\'{lst[b]}\\' of which size of sub string is \\'{temp}\\'\")\n"
   ]
  },
  {
   "cell_type": "code",
   "execution_count": 32,
   "metadata": {},
   "outputs": [
    {
     "name": "stdout",
     "output_type": "stream",
     "text": [
      "ve olleh\n"
     ]
    }
   ],
   "source": [
    "#21 Write a Python function to reverses a string if its length is a multiple of 4.\n",
    "a = input(\"Enter the String: \")\n",
    "if len(a)%4 == 0:\n",
    "    print(a[::-1])\n",
    "else:\n",
    "    print(a)"
   ]
  },
  {
   "cell_type": "code",
   "execution_count": 46,
   "metadata": {},
   "outputs": [
    {
     "name": "stdout",
     "output_type": "stream",
     "text": [
      "w3se\n"
     ]
    }
   ],
   "source": [
    "'''Q22 Write a Python program to get a string made of the first 2 and the last 2\n",
    "chars from a given a string. Ifthe string length islessthan 2,return instead\n",
    "of the empty string.\n",
    "o Sample String:w3resource'\n",
    "o Expected Result: 'w3ce'\n",
    "o Sample String: 'w3'\n",
    "o Expected Result: 'w3w3'\n",
    "o Sample String: ' w'\n",
    "o Expected Result: Empty String'''\n",
    "a = input(\"Enter the string: \")\n",
    "b = a[-1:-3:-1]\n",
    "if len(a)>1:\n",
    "    print(f\"{a[0:2]}{b[::-1]}\")\n",
    "else:\n",
    "    print(\"Empty String\")"
   ]
  },
  {
   "cell_type": "code",
   "execution_count": 1,
   "metadata": {},
   "outputs": [
    {
     "name": "stdout",
     "output_type": "stream",
     "text": [
      "hello eoneveryone\n"
     ]
    }
   ],
   "source": [
    "#Q23 Write a Python function to insert a string in the middle of a string.\n",
    "a = input(\"Enter the String: \")\n",
    "b = input(\"Enter the Another String\")\n",
    "temp = slice(0,len(a)//2)\n",
    "temp0 = slice(len(a)//2,len(a))\n",
    "print(f\"{a[temp]} {b} {a[temp0]}\")"
   ]
  }
 ],
 "metadata": {
  "interpreter": {
   "hash": "26de051ba29f2982a8de78e945f0abaf191376122a1563185a90213a26c5da77"
  },
  "kernelspec": {
   "display_name": "Python 3.10.2 64-bit",
   "language": "python",
   "name": "python3"
  },
  "language_info": {
   "codemirror_mode": {
    "name": "ipython",
    "version": 3
   },
   "file_extension": ".py",
   "mimetype": "text/x-python",
   "name": "python",
   "nbconvert_exporter": "python",
   "pygments_lexer": "ipython3",
   "version": "3.10.2"
  },
  "orig_nbformat": 4
 },
 "nbformat": 4,
 "nbformat_minor": 2
}
