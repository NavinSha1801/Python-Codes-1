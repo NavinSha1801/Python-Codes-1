{
 "cells": [
  {
   "cell_type": "code",
   "execution_count": 1,
   "metadata": {},
   "outputs": [
    {
     "name": "stdout",
     "output_type": "stream",
     "text": [
      "{10, 11, 12, 13}\n",
      "<class 'set'>\n"
     ]
    }
   ],
   "source": [
    "'''\n",
    "set: set is collection data type which is contain similar and dis-similar data elements at single entity\n",
    "it can contain only unique value (it will remove duplicate elemnts from set)\n",
    "set is unoderable unindexable and imutable\n",
    "'''\n",
    "s = {10,11,12,13}\n",
    "print(s)\n",
    "print(type(s))"
   ]
  },
  {
   "cell_type": "code",
   "execution_count": 2,
   "metadata": {},
   "outputs": [
    {
     "name": "stdout",
     "output_type": "stream",
     "text": [
      "{40, 10, 50, 20, 30}\n",
      "[40, 10, 50, 20, 30]\n"
     ]
    }
   ],
   "source": [
    "li = [10,20,30,40,50,20,30,40]\n",
    "s = set(li)\n",
    "print(s)\n",
    "li = list(s)\n",
    "print(li)\n"
   ]
  },
  {
   "cell_type": "code",
   "execution_count": 6,
   "metadata": {},
   "outputs": [
    {
     "name": "stdout",
     "output_type": "stream",
     "text": [
      "name = Jay\n",
      "subject = Python\n",
      "marks = 89\n",
      "Jay\n",
      "89\n",
      "name\n",
      "subject\n",
      "marks\n",
      "Jay\n",
      "Python\n",
      "89\n"
     ]
    }
   ],
   "source": [
    "'''\n",
    "dictonary is a collection data type\n",
    "which contain key and value pair and represent by {}\n",
    "'''\n",
    "student = {'name': \"Jay\",'subject':'Python',\"marks\":89}\n",
    "for k,v in student.items():\n",
    "    print(f\"{k} = {v}\")\n",
    "print(student['name'])\n",
    "print(student.get(\"marks\"))\n",
    "for key in student.keys():\n",
    "    print(key)\n",
    "for value in student.values():\n",
    "    print(value)"
   ]
  },
  {
   "cell_type": "code",
   "execution_count": 10,
   "metadata": {},
   "outputs": [
    {
     "name": "stdout",
     "output_type": "stream",
     "text": [
      "Which is best programming Language\n",
      "{'a': 'python', 'b': 'java'}\n",
      "Wrong answer\n",
      "Which is framework of python\n",
      "{'a': 'django', 'b': 'springboot'}\n",
      "Wrong answer\n"
     ]
    }
   ],
   "source": [
    "quiz = {\n",
    "    1 : {\n",
    "        \"que\":\"Which is best programming Language\",\n",
    "        \"ans\":{'a':'python','b': 'java'}\n",
    "    },\n",
    "    2: {\n",
    "        \"que\":\"Which is framework of python\",\n",
    "        \"ans\":{'a':'django','b':'springboot'}\n",
    "    },\n",
    "    'ans':{\n",
    "        1:'a',\n",
    "        2:'b'\n",
    "    }\n",
    "}\n",
    "for i in range(1,len(quiz)):\n",
    "    print(quiz[i][\"que\"])\n",
    "    print(quiz[i]['ans'])\n",
    "    ans = input(\"Enter your choicec\").lower()\n",
    "    if ans == quiz['ans'][i]:\n",
    "        print(\"You got the right answer\")\n",
    "    else:\n",
    "        print(\"Wrong answer\")"
   ]
  },
  {
   "cell_type": "markdown",
   "metadata": {},
   "source": [
    "Function 4 categories: \n",
    "\n",
    "there are 4 types :\n",
    "\n",
    "1 with parameters and without return \n",
    "\n",
    "2 with parameters and with return \n",
    "\n",
    "3 without parameters and with return\n",
    "\n",
    "4 withour paramerers and without return"
   ]
  },
  {
   "cell_type": "code",
   "execution_count": 1,
   "metadata": {},
   "outputs": [
    {
     "name": "stdout",
     "output_type": "stream",
     "text": [
      "Hello python!\n"
     ]
    }
   ],
   "source": [
    "def greet(name):\n",
    "    print(f\"Hello {name}!\")\n",
    "name = input(\"Enter your name: \")\n",
    "greet(name)"
   ]
  },
  {
   "cell_type": "code",
   "execution_count": 2,
   "metadata": {},
   "outputs": [
    {
     "name": "stdout",
     "output_type": "stream",
     "text": [
      "\n",
      "        Enter your choice :\n",
      "            1> addition\n",
      "            2> multiplication\n",
      "            3> division\n",
      "            4> substraction\n",
      "20\n"
     ]
    }
   ],
   "source": [
    "def sum(num1,num2):\n",
    "    ans = num1 + num2\n",
    "    print(ans)\n",
    "\n",
    "def mul(num1,num2):\n",
    "    ans = num1*num2\n",
    "    print(ans)\n",
    "\n",
    "def div(num1,num2):\n",
    "    ans = num1/num2\n",
    "    print(ans)\n",
    "\n",
    "def sub(num1,num2):\n",
    "    ans = num1-num2\n",
    "    print(ans)\n",
    "\n",
    "def menu():\n",
    "    print('''\n",
    "        Enter your choice :\n",
    "            1> addition\n",
    "            2> multiplication\n",
    "            3> division\n",
    "            4> substraction''')\n",
    "    choice = int(input(\"Enter your choice: \"))\n",
    "    num1 = int(input(\"Enter number 1: \"))\n",
    "    num2 = int(input(\"Enter number 2: \"))\n",
    "    if choice == 1:\n",
    "        sum(num1,num2)\n",
    "    elif choice == 2:\n",
    "        mul(num1,num2)\n",
    "    elif choice == 3:\n",
    "        div(num1,num2)\n",
    "    elif choice == 4:\n",
    "        sub(num1,num2)\n",
    "    else:\n",
    "        print(\"Invalid input\")\n",
    "menu()"
   ]
  },
  {
   "cell_type": "code",
   "execution_count": 4,
   "metadata": {},
   "outputs": [
    {
     "name": "stdout",
     "output_type": "stream",
     "text": [
      "The given number 2 is even\n"
     ]
    }
   ],
   "source": [
    "def eveodd(num1):\n",
    "    if num1%2:\n",
    "        print(f\"The given number {num1} is odd\")\n",
    "    else:\n",
    "        print(f\"The given number {num1} is even\")\n",
    "num1 = int(input(\"Enter the number: \"))\n",
    "eveodd(num1)"
   ]
  },
  {
   "cell_type": "code",
   "execution_count": 1,
   "metadata": {},
   "outputs": [
    {
     "name": "stdout",
     "output_type": "stream",
     "text": [
      "Even number\n"
     ]
    }
   ],
   "source": [
    "def eveodd():\n",
    "    num = int(input(\"Enter the number: \"))\n",
    "    if num%2:\n",
    "        return \"Odd number\"\n",
    "    else:\n",
    "        return \"Even number\"\n",
    "print(eveodd())"
   ]
  },
  {
   "cell_type": "code",
   "execution_count": 2,
   "metadata": {},
   "outputs": [
    {
     "name": "stdout",
     "output_type": "stream",
     "text": [
      "Even Number\n"
     ]
    }
   ],
   "source": [
    "def eveodd(num):\n",
    "    if num%2:\n",
    "        return \"Odd number\"\n",
    "    else:\n",
    "        return \"Even Number\"\n",
    "\n",
    "num = int(input(\"Enter the number: \"))\n",
    "print(eveodd(num))"
   ]
  },
  {
   "cell_type": "code",
   "execution_count": 8,
   "metadata": {},
   "outputs": [
    {
     "name": "stdout",
     "output_type": "stream",
     "text": [
      "2022-05-28 15:30:27.022674\n",
      "2022-05-28\n",
      "28\n",
      "5\n",
      "2022\n",
      "15:30:27.022674\n",
      "Saturday\n",
      "Sat\n",
      "May\n"
     ]
    }
   ],
   "source": [
    "import datetime as date\n",
    "d = date.datetime.now()\n",
    "print(d)\n",
    "print(d.date())\n",
    "print(d.day)\n",
    "print(d.month)\n",
    "print(d.year)\n",
    "print(d.time())\n",
    "print(d.strftime(\"%A\"))\n",
    "print(d.strftime(\"%a\"))\n",
    "print(d.strftime(\"%B\"))"
   ]
  },
  {
   "cell_type": "code",
   "execution_count": 9,
   "metadata": {},
   "outputs": [
    {
     "name": "stdout",
     "output_type": "stream",
     "text": [
      "Hello navin\n"
     ]
    }
   ],
   "source": [
    "import os\n",
    "name = input(\"Enter your name: \")\n",
    "os.system(\"cls\")\n",
    "print(f\"Hello {name}\")"
   ]
  },
  {
   "cell_type": "code",
   "execution_count": 10,
   "metadata": {},
   "outputs": [
    {
     "name": "stdout",
     "output_type": "stream",
     "text": [
      "10.0.22000\n",
      "Windows-10-10.0.22000-SP0\n",
      "Windows\n",
      "AMD64 Family 25 Model 80 Stepping 0, AuthenticAMD\n"
     ]
    }
   ],
   "source": [
    "import platform\n",
    "print(platform.version())\n",
    "print(platform.platform())\n",
    "print(platform.system())\n",
    "print(platform.processor())"
   ]
  },
  {
   "cell_type": "code",
   "execution_count": 29,
   "metadata": {},
   "outputs": [
    {
     "name": "stdout",
     "output_type": "stream",
     "text": [
      "66\n",
      "c++\n",
      "['c', 'android', 'c++', 'java', 'python']\n"
     ]
    }
   ],
   "source": [
    "import random\n",
    "lst = ['c','c++','java','python','android']\n",
    "print(random.randint(1,100))\n",
    "print(random.choice(lst))\n",
    "random.shuffle(lst)\n",
    "print(lst)"
   ]
  },
  {
   "cell_type": "code",
   "execution_count": 4,
   "metadata": {},
   "outputs": [
    {
     "name": "stdout",
     "output_type": "stream",
     "text": [
      "['CSK', 'RCB', 'KXIP', 'KKR', 'DC', 'SHR', 'LSR', 'RR', 'GT', 'MI']\n",
      "hii\n"
     ]
    }
   ],
   "source": [
    "teams = ['CSK','RCB','KXIP','KKR','DC','SHR','LSR','RR','GT','MI']\n",
    "print(teams)\n",
    "team = input(\"Enter your team among above: \")\n",
    "if team in teams:\n",
    "    print('hii')\n",
    "else:\n",
    "    print(\"Hell\")\n",
    "\n",
    "            "
   ]
  },
  {
   "cell_type": "code",
   "execution_count": 6,
   "metadata": {},
   "outputs": [
    {
     "name": "stdout",
     "output_type": "stream",
     "text": [
      "60\n"
     ]
    }
   ],
   "source": [
    "from mypackages.module import *\n",
    "choice = input(\"Enter your choice: \")\n",
    "num1 = int(input(\"Enter the first number: \"))\n",
    "num2 = int(input(\"Enter 2nd number: \"))\n",
    "if choice == '+':\n",
    "    print(addition(num1,num2))"
   ]
  },
  {
   "cell_type": "code",
   "execution_count": 7,
   "metadata": {},
   "outputs": [
    {
     "name": "stdout",
     "output_type": "stream",
     "text": [
      "hello everyone\n"
     ]
    }
   ],
   "source": [
    "'''\n",
    "file handaling conept: \n",
    "there are 4 modes in file handling\n",
    "r (read)\n",
    "w (write)\n",
    "x (create blank file)\n",
    "a (append)\n",
    "'''\n",
    "f = open('file.txt','r')\n",
    "print(f.read())"
   ]
  },
  {
   "cell_type": "code",
   "execution_count": 8,
   "metadata": {},
   "outputs": [],
   "source": [
    "f = open('file_2.txt','w')\n",
    "f.write('hello everyone')\n",
    "f.close()"
   ]
  },
  {
   "cell_type": "code",
   "execution_count": 10,
   "metadata": {},
   "outputs": [],
   "source": [
    "f = open('file_2.txt','a')\n",
    "f.write('\\n hello world!')\n",
    "f.close()"
   ]
  },
  {
   "cell_type": "code",
   "execution_count": 11,
   "metadata": {},
   "outputs": [],
   "source": [
    "f = open('file_3.txt','a')\n",
    "while True:\n",
    "    name = input(\"Enter student name: \")\n",
    "    f.write(name+'\\n')\n",
    "    again = input(\"Do u want to add more: \")\n",
    "    if again == 'y':\n",
    "        continue\n",
    "    else:\n",
    "        break\n",
    "f.close()"
   ]
  },
  {
   "cell_type": "code",
   "execution_count": 2,
   "metadata": {},
   "outputs": [
    {
     "name": "stdout",
     "output_type": "stream",
     "text": [
      "2\n"
     ]
    }
   ],
   "source": [
    "f = open('file_2.txt','r')\n",
    "l = f.readlines()\n",
    "print(len(l))\n",
    "f.close()"
   ]
  },
  {
   "cell_type": "code",
   "execution_count": 3,
   "metadata": {},
   "outputs": [
    {
     "name": "stdout",
     "output_type": "stream",
     "text": [
      "4\n"
     ]
    }
   ],
   "source": [
    "f = open('file_2.txt','r')\n",
    "data = f.read()\n",
    "\n",
    "words = data.split()\n",
    "print(len(words))\n",
    "\n",
    "f.close()"
   ]
  },
  {
   "cell_type": "code",
   "execution_count": 8,
   "metadata": {},
   "outputs": [
    {
     "name": "stdout",
     "output_type": "stream",
     "text": [
      "folder is already exist\n"
     ]
    }
   ],
   "source": [
    "import os\n",
    "if os.path.exists(\"myfolder\"):\n",
    "    print('folder is already exist')\n",
    "else:\n",
    "    os.mkdir('myfolder')"
   ]
  },
  {
   "cell_type": "code",
   "execution_count": 10,
   "metadata": {},
   "outputs": [
    {
     "name": "stdout",
     "output_type": "stream",
     "text": [
      "Folder not found\n"
     ]
    }
   ],
   "source": [
    "import os\n",
    "\n",
    "if os.path.exists('myfolder'):\n",
    "    os.rmdir('myfolder')\n",
    "else:\n",
    "    print('Folder not found')"
   ]
  },
  {
   "cell_type": "code",
   "execution_count": 2,
   "metadata": {},
   "outputs": [
    {
     "name": "stdout",
     "output_type": "stream",
     "text": [
      "file nahi hai\n"
     ]
    }
   ],
   "source": [
    "import os\n",
    "\n",
    "if os.path.exists('file.txt'):\n",
    "    os.remove('file.txt')\n",
    "else:\n",
    "    print('file nahi hai')"
   ]
  },
  {
   "cell_type": "code",
   "execution_count": 3,
   "metadata": {},
   "outputs": [
    {
     "ename": "NameError",
     "evalue": "name 'a' is not defined",
     "output_type": "error",
     "traceback": [
      "\u001b[1;31m---------------------------------------------------------------------------\u001b[0m",
      "\u001b[1;31mNameError\u001b[0m                                 Traceback (most recent call last)",
      "\u001b[1;32md:\\py codes\\1.ipynb Cell 26'\u001b[0m in \u001b[0;36m<cell line: 11>\u001b[1;34m()\u001b[0m\n\u001b[0;32m      <a href='vscode-notebook-cell:/d%3A/py%20codes/1.ipynb#ch0000027?line=0'>1</a>\u001b[0m \u001b[39m#excpetion : run time errors is called exceptions\u001b[39;00m\n\u001b[0;32m      <a href='vscode-notebook-cell:/d%3A/py%20codes/1.ipynb#ch0000027?line=1'>2</a>\u001b[0m \u001b[39m#exception handalling : try and except\u001b[39;00m\n\u001b[0;32m      <a href='vscode-notebook-cell:/d%3A/py%20codes/1.ipynb#ch0000027?line=2'>3</a>\u001b[0m \u001b[39m'''\u001b[39;00m\n\u001b[0;32m      <a href='vscode-notebook-cell:/d%3A/py%20codes/1.ipynb#ch0000027?line=3'>4</a>\u001b[0m \u001b[39m    syntax\u001b[39;00m\n\u001b[0;32m      <a href='vscode-notebook-cell:/d%3A/py%20codes/1.ipynb#ch0000027?line=4'>5</a>\u001b[0m \u001b[39mtry:\u001b[39;00m\n\u001b[1;32m   (...)\u001b[0m\n\u001b[0;32m      <a href='vscode-notebook-cell:/d%3A/py%20codes/1.ipynb#ch0000027?line=8'>9</a>\u001b[0m \u001b[39mexample\u001b[39;00m\n\u001b[0;32m     <a href='vscode-notebook-cell:/d%3A/py%20codes/1.ipynb#ch0000027?line=9'>10</a>\u001b[0m \u001b[39m'''\u001b[39;00m\n\u001b[1;32m---> <a href='vscode-notebook-cell:/d%3A/py%20codes/1.ipynb#ch0000027?line=10'>11</a>\u001b[0m \u001b[39mprint\u001b[39m(a)\n",
      "\u001b[1;31mNameError\u001b[0m: name 'a' is not defined"
     ]
    }
   ],
   "source": [
    "#excpetion : run time errors is called exceptions\n",
    "#exception handalling : try and except\n",
    "'''\n",
    "    syntax\n",
    "try:\n",
    "    statement\n",
    "except:\n",
    "    statement\n",
    "example\n",
    "'''\n",
    "print(a)"
   ]
  },
  {
   "cell_type": "code",
   "execution_count": 5,
   "metadata": {},
   "outputs": [
    {
     "name": "stdout",
     "output_type": "stream",
     "text": [
      "name is not defined\n"
     ]
    }
   ],
   "source": [
    "try:\n",
    "    print(a)\n",
    "except:\n",
    "    print(\"name is not defined\")\n",
    "\n"
   ]
  },
  {
   "cell_type": "code",
   "execution_count": 8,
   "metadata": {},
   "outputs": [
    {
     "name": "stdout",
     "output_type": "stream",
     "text": [
      "Cant devide by zero\n"
     ]
    }
   ],
   "source": [
    "try:\n",
    "    num1 = int(input(\"Enter number 1:\"))\n",
    "    num2 = int(input(\"Enter number 2:\"))\n",
    "    print(num1/num2)\n",
    "except(ValueError):\n",
    "    print('Value Error')\n",
    "except(ZeroDivisionError):\n",
    "    print(\"Cant devide by zero\")"
   ]
  },
  {
   "cell_type": "markdown",
   "metadata": {},
   "source": [
    "Try: WHich contain error block\n",
    "\n",
    "except: which return statement when exception occurs\n",
    "\n",
    "fianlly: it always occurs - exception invoke or not\n",
    "\n",
    "else: it only execute when there is no exception in block"
   ]
  },
  {
   "cell_type": "code",
   "execution_count": 10,
   "metadata": {},
   "outputs": [
    {
     "name": "stdout",
     "output_type": "stream",
     "text": [
      "Error Code:  <class 'ZeroDivisionError'>\n",
      "Message:  division by zero\n",
      "Visit again\n"
     ]
    }
   ],
   "source": [
    "import sys\n",
    "try:\n",
    "    num1 = int(input(\"Enter number 1:\"))\n",
    "    num2 = int(input(\"Enter number 2:\"))\n",
    "    ans = num1/num2\n",
    "except:\n",
    "    print('Error Code: ',sys.exc_info()[0])\n",
    "    print('Message: ',sys.exc_info()[1])\n",
    "else:\n",
    "    print(ans)\n",
    "finally:\n",
    "    print('Visit again')\n"
   ]
  },
  {
   "cell_type": "code",
   "execution_count": 12,
   "metadata": {},
   "outputs": [
    {
     "name": "stdout",
     "output_type": "stream",
     "text": [
      "Error Code:  invalid literal for int() with base 10: 'l'\n",
      "Message:  <class 'ValueError'>\n",
      "Visit again\n"
     ]
    }
   ],
   "source": [
    "import sys\n",
    "try:\n",
    "    num1 = int(input(\"Enter number 1:\"))\n",
    "    num2 = int(input(\"Enter number 2:\"))\n",
    "    ans = num1/num2\n",
    "except Exception as e:\n",
    "    print('Error Code: ',e)\n",
    "    print('Message: ',sys.exc_info()[0])\n",
    "else:\n",
    "    print(ans)\n",
    "finally:\n",
    "    print('Visit again')\n"
   ]
  },
  {
   "cell_type": "markdown",
   "metadata": {},
   "source": [
    "OOPS: Object Oriented Programming System\n",
    "-> Class\n",
    "-> Object\n",
    "-> Inheritence\n",
    "-> Polymorphism\n",
    "-> Encapsulation\n",
    "-> Abstraction"
   ]
  },
  {
   "cell_type": "markdown",
   "metadata": {},
   "source": [
    "Class : Class is a collection of data memeber (Variable) and data function (Function)\n",
    "\n",
    "Syntax: \n",
    "class <Classname>:\n",
    "    //data member\n",
    "    //member function"
   ]
  },
  {
   "cell_type": "code",
   "execution_count": 2,
   "metadata": {},
   "outputs": [
    {
     "name": "stdout",
     "output_type": "stream",
     "text": [
      "chetan\n",
      "10\n",
      "name\n",
      "dep\n"
     ]
    }
   ],
   "source": [
    "class student:\n",
    "    name = 'chetan'\n",
    "    marks = '10'\n",
    "\n",
    "class faculty:\n",
    "    name = 'name'\n",
    "    department = 'dep'\n",
    "\n",
    "obj1 = student()\n",
    "obj2 = faculty()\n",
    "print(obj1.name)\n",
    "print(obj1.marks)\n",
    "print(obj2.name)\n",
    "print(obj2.department)"
   ]
  },
  {
   "cell_type": "code",
   "execution_count": 1,
   "metadata": {},
   "outputs": [
    {
     "ename": "TypeError",
     "evalue": "student.student_name() takes 0 positional arguments but 1 was given",
     "output_type": "error",
     "traceback": [
      "\u001b[1;31m---------------------------------------------------------------------------\u001b[0m",
      "\u001b[1;31mTypeError\u001b[0m                                 Traceback (most recent call last)",
      "\u001b[1;32md:\\git_files\\Python-Codes-1\\all_codes\\1.ipynb Cell 1'\u001b[0m in \u001b[0;36m<cell line: 12>\u001b[1;34m()\u001b[0m\n\u001b[0;32m      <a href='vscode-notebook-cell:/d%3A/git_files/Python-Codes-1/all_codes/1.ipynb#ch0000000?line=8'>9</a>\u001b[0m                 \u001b[39mbreak\u001b[39;00m\n\u001b[0;32m     <a href='vscode-notebook-cell:/d%3A/git_files/Python-Codes-1/all_codes/1.ipynb#ch0000000?line=10'>11</a>\u001b[0m obj \u001b[39m=\u001b[39m student()\n\u001b[1;32m---> <a href='vscode-notebook-cell:/d%3A/git_files/Python-Codes-1/all_codes/1.ipynb#ch0000000?line=11'>12</a>\u001b[0m \u001b[39mprint\u001b[39m(obj\u001b[39m.\u001b[39;49mstudent_name())\n",
      "\u001b[1;31mTypeError\u001b[0m: student.student_name() takes 0 positional arguments but 1 was given"
     ]
    }
   ],
   "source": [
    "class student:\n",
    "    def student_name(self):\n",
    "        student_lst = []\n",
    "        while True:\n",
    "            name = input(\"Enter Student Name:: \")\n",
    "            student_lst.append(name)\n",
    "            again = input(\"Do you  want to add more student: \")\n",
    "            if again == 'n':\n",
    "                break\n",
    "            \n",
    "obj = student()\n",
    "obj.student_name()"
   ]
  },
  {
   "cell_type": "code",
   "execution_count": 5,
   "metadata": {},
   "outputs": [
    {
     "name": "stdout",
     "output_type": "stream",
     "text": [
      "Even\n",
      "+ve\n"
     ]
    }
   ],
   "source": [
    "class programs:\n",
    "    def positivenegative(self,number):\n",
    "        if number>0:\n",
    "            print('+ve')\n",
    "        elif number<0:\n",
    "            print('-ve')\n",
    "        else:\n",
    "            print('Zero')\n",
    "    def evenodd(self,number):\n",
    "        if number%2:\n",
    "            print('Odd')\n",
    "        else:\n",
    "            print(\"Even\")\n",
    "\n",
    "obj = programs()\n",
    "obj.evenodd(10)\n",
    "obj.positivenegative(10)"
   ]
  },
  {
   "cell_type": "markdown",
   "metadata": {},
   "source": [
    "Function: Which is defined outside the class function are independent to the class\n",
    "\n",
    "method: Ehich is defined inside the class and dependent on the class\n",
    "\n",
    "__init__(): init /constructor\n",
    "by default it always call when object of class create\n",
    "\n"
   ]
  },
  {
   "cell_type": "code",
   "execution_count": 6,
   "metadata": {},
   "outputs": [
    {
     "name": "stdout",
     "output_type": "stream",
     "text": [
      "hello Welcome to python classL\n",
      "Subject =  Python\n"
     ]
    }
   ],
   "source": [
    "class student:\n",
    "    subject=\"\"\n",
    "    def __init__(self,subject):\n",
    "        print(\"hello Welcome to python classL\")\n",
    "        self.subject = subject\n",
    "    \n",
    "    def display(self):\n",
    "        print('Subject = ' , self.subject)\n",
    "    \n",
    "obj = student('Python')\n",
    "obj.display()\n"
   ]
  },
  {
   "cell_type": "code",
   "execution_count": 4,
   "metadata": {},
   "outputs": [
    {
     "name": "stdout",
     "output_type": "stream",
     "text": [
      "lykan hypersport\n",
      "indian\n"
     ]
    }
   ],
   "source": [
    "#__init__.py : it is used to generate packages\n",
    "#__init__() : it is method and which is used to create constructor in oops concept it calls automatically once class called\n",
    "\n",
    "class vehicle:\n",
    "    def __init__(self,vehicle_type):\n",
    "        self.vehicle_type = vehicle_type\n",
    "    \n",
    "    def details(self):\n",
    "        if self.vehicle_type == 'cars':\n",
    "            self.brand = input(\"Enter brand: \")\n",
    "        elif self.vehicle_type == 'bike':\n",
    "            self.brand = input('Enter Bike')\n",
    "        else:\n",
    "            print(\"No information available: \")\n",
    "    \n",
    "    def display(self):\n",
    "        print(self.brand)\n",
    "\n",
    "car = vehicle('cars')\n",
    "car.details()\n",
    "car.display()\n",
    "\n",
    "bike = vehicle('bike')\n",
    "bike.details()\n",
    "bike.display()"
   ]
  },
  {
   "cell_type": "code",
   "execution_count": 7,
   "metadata": {},
   "outputs": [
    {
     "name": "stdout",
     "output_type": "stream",
     "text": [
      "Welcome to Student Portal\n",
      "name\n",
      "surname\n",
      "subs\n",
      "Welcome to Faculty Portal\n",
      "name\n",
      "surname\n",
      "subs\n"
     ]
    }
   ],
   "source": [
    "class Student:\n",
    "    def __init__(self):\n",
    "        print(\"Welcome to Student Portal\")\n",
    "    \n",
    "    def inputdetails(self,fname,lname,subject):\n",
    "        self.fname = fname\n",
    "        self.lname = lname\n",
    "        self.subject = subject\n",
    "\n",
    "    def display(self):\n",
    "        print(self.fname)\n",
    "        print(self.lname)\n",
    "        print(self.subject)\n",
    "\n",
    "class Faculty:\n",
    "    def __init__(self) -> None:\n",
    "        print(\"Welcome to Faculty Portal\")\n",
    "    \n",
    "    def inputdetails(self,fname,lname,subject):\n",
    "        self.fname = fname\n",
    "        self.lname = lname\n",
    "        self.subject = subject\n",
    "\n",
    "    def display(self):\n",
    "        print(self.fname)\n",
    "        print(self.lname)\n",
    "        print(self.subject)\n",
    "\n",
    "obj = Student()\n",
    "obj.inputdetails('name','surname','subs')\n",
    "obj.display()\n",
    "\n",
    "obj = Faculty()\n",
    "obj.inputdetails('name','surname','subs')\n",
    "obj.display()\n",
    "\n",
    "#'''def fun_name() -> {return_type}''' here it is used to say code that it is returning something"
   ]
  },
  {
   "cell_type": "code",
   "execution_count": 1,
   "metadata": {},
   "outputs": [
    {
     "name": "stdout",
     "output_type": "stream",
     "text": [
      "Hello !st class is here\n",
      "Hello B Class is here\n"
     ]
    }
   ],
   "source": [
    "'''  \n",
    "inheritance : it is a comcept which is used to provide reusablility\n",
    "\n",
    "it reduce our code\n",
    "\n",
    "there are 5 types\n",
    "\n",
    "single level\n",
    "multi-level\n",
    "multiple\n",
    "hiearchical\n",
    "hybrid\n",
    "'''\n",
    "#single level inheritance\n",
    "class p1:       #base, parent, super\n",
    "    def d1(self):\n",
    "        print('Hello !st class is here')\n",
    "\n",
    "class c1(p1):   #child, derived, sub\n",
    "    def d2(self):\n",
    "        print(\"Hello B Class is here\")\n",
    "\n",
    "obj = c1()\n",
    "obj.d1()\n",
    "obj.d2()"
   ]
  },
  {
   "cell_type": "code",
   "execution_count": 2,
   "metadata": {},
   "outputs": [
    {
     "name": "stdout",
     "output_type": "stream",
     "text": [
      "num1 = 10\n",
      "num2 = 20\n",
      "Result = 30\n"
     ]
    }
   ],
   "source": [
    "class a:\n",
    "    def take(self):\n",
    "        self.n1 = int(input(\"Enter number 1: \"))\n",
    "        self.n2 = int(input(\"Enter number 2: \"))\n",
    "\n",
    "class b(a):\n",
    "    def display(self):\n",
    "        print(f\"num1 = {self.n1}\")\n",
    "        print(f\"num2 = {self.n2}\")\n",
    "\n",
    "    def ans(self):\n",
    "        print(f\"Result = {self.n1+self.n2}\")\n",
    "\n",
    "obj = b()\n",
    "obj.take()\n",
    "obj.display()\n",
    "obj.ans()\n"
   ]
  },
  {
   "cell_type": "code",
   "execution_count": 3,
   "metadata": {},
   "outputs": [
    {
     "name": "stdout",
     "output_type": "stream",
     "text": [
      "A here\n",
      "B here\n",
      "C here\n"
     ]
    }
   ],
   "source": [
    "#multi-level inheritance\n",
    "class a:    #base\n",
    "    def display(self):\n",
    "        print('A here')    \n",
    "\n",
    "class b(a): #intermediate\n",
    "    def display1(self):\n",
    "        print('B here')\n",
    "\n",
    "class c(b):     #Derived\n",
    "    def display3(self):\n",
    "        print('C here')\n",
    "obj = c()\n",
    "obj.display()\n",
    "obj.display1()\n",
    "obj.display3()"
   ]
  },
  {
   "cell_type": "code",
   "execution_count": 4,
   "metadata": {},
   "outputs": [
    {
     "name": "stdout",
     "output_type": "stream",
     "text": [
      "Rbi Bank\n",
      "Sbi Bank\n",
      "Rbi Bank\n",
      "boi Bank\n"
     ]
    }
   ],
   "source": [
    "#multiple inheritance\n",
    "\n",
    "class rbi:\n",
    "    def d1(self):\n",
    "        print(\"Rbi Bank\")\n",
    "    \n",
    "class sbi(rbi):\n",
    "    def d2(self):\n",
    "        print('Sbi Bank')\n",
    "\n",
    "class boi(rbi):\n",
    "    def d3(self):\n",
    "        print('boi Bank')\n",
    "\n",
    "obj1 = sbi()\n",
    "obj2 = boi()\n",
    "\n",
    "obj1.d1()\n",
    "obj1.d2()\n",
    "\n",
    "obj2.d1()\n",
    "obj2.d3()\n",
    "\n",
    "\n",
    "\n",
    "\n",
    "\n",
    "\n"
   ]
  },
  {
   "cell_type": "code",
   "execution_count": 5,
   "metadata": {},
   "outputs": [
    {
     "name": "stdout",
     "output_type": "stream",
     "text": [
      "a here\n",
      "b here\n",
      "c here\n"
     ]
    }
   ],
   "source": [
    "class a:\n",
    "    def da(self):\n",
    "        print(\"a here\")\n",
    "\n",
    "class b:\n",
    "    def db(self):\n",
    "        print(\"b here\")\n",
    "\n",
    "class c(a,b):\n",
    "    def dc(self):\n",
    "        print(\"c here\")\n",
    "    \n",
    "obj = c()\n",
    "obj.da()\n",
    "obj.db()\n",
    "obj.dc()\n",
    "\n",
    "\n"
   ]
  },
  {
   "cell_type": "code",
   "execution_count": 9,
   "metadata": {},
   "outputs": [
    {
     "name": "stdout",
     "output_type": "stream",
     "text": [
      "\n",
      "        1 Large Pizza = 10.99 AUD\n",
      "        2 Large Pizzas = 20.99 AUD\n",
      "        3 Large Pizzas = 29.99 AUD\n",
      "        Offer\n",
      "        ***Buy 4 or more pizzas and get 1.5lt of soft drink Free***\n",
      "\n",
      "        1 Large Pasta = 9.5 AUD\n",
      "        2 Large Pasta = 17.00 AUD\n",
      "        3 Large Pasta = 27.50 AUD\n",
      "\n",
      "        Offer\n",
      "        *** Buy 4 or more pastas and get Bruschetta Free***\n",
      "        *** Buy 4 or more pizza and pastas and get 2 choco brownies***\n",
      "        ice cream Free***\n",
      "        ---------------------------------------------------------------------\n",
      "        \n",
      "Welcome anjali\n",
      "Total Pizza Price: 43.96\n",
      "*** You get 1.5lt of soft drink Free***\n",
      "Total Pastas Price: 47.5\n",
      "*** You get Bruschetta Free***\n",
      "*** You get 2 choco brownies***\n",
      "Your total order is: 91.46000000000001\n",
      "---> Your Net total amount = [91.46000000000001]\n",
      "Welcome name\n",
      "Total Pizza Price: 65.94\n",
      "*** You get 1.5lt of soft drink Free***\n",
      "Total Pastas Price: 66.5\n",
      "*** You get Bruschetta Free***\n",
      "*** You get 2 choco brownies***\n",
      "Your total order is: 132.44\n",
      "---> Your Net total amount = [91.46000000000001, 132.44]\n",
      "Payment Recieved By Pizza: 65.94\n",
      "Payment Recieved By Pastas: 66.5\n",
      "Total Payment Recieved: 223.9\n",
      "Number of 1.5 lt soft drink sold: 2\n",
      "Number of bruschetta given to customer: 2\n",
      "Number of chocco brownies ice cream given to customer: 2\n",
      "Bye Bye See you again\n"
     ]
    }
   ],
   "source": []
  },
  {
   "cell_type": "code",
   "execution_count": 1,
   "metadata": {},
   "outputs": [
    {
     "name": "stdout",
     "output_type": "stream",
     "text": [
      "4 Wheels\n",
      "2 Wheels\n"
     ]
    }
   ],
   "source": [
    "'''\n",
    "Polymorphism: Poly means many and morphism means forms\n",
    "it is derived from greek word\n",
    "in simple wy we can say that one named method has different forms\n",
    "\n",
    "2 types of polymorphism\n",
    "1 Method overloading -> Python dosen't supprot it\n",
    "2 method overriding -> Python Support it\n",
    "\n",
    "'''\n",
    "class vehicle:\n",
    "    def wheels(self):\n",
    "        pass\n",
    "\n",
    "class car:\n",
    "    def wheels(self):\n",
    "        print('4 Wheels')\n",
    "    \n",
    "class bike:\n",
    "    def wheels(self):\n",
    "        print('2 Wheels')\n",
    "\n",
    "obj_car = car()\n",
    "obj_bike = bike()\n",
    "\n",
    "obj_car.wheels()\n",
    "obj_bike.wheels()\n",
    "\n"
   ]
  },
  {
   "cell_type": "code",
   "execution_count": 4,
   "metadata": {},
   "outputs": [
    {
     "name": "stdout",
     "output_type": "stream",
     "text": [
      "A class here\n",
      "B class here\n"
     ]
    }
   ],
   "source": [
    "class A:\n",
    "    def display(self):\n",
    "        print('A class here')\n",
    "class B(A):\n",
    "    def display(self):\n",
    "        A.display(self)\n",
    "        print(\"B class here\")\n",
    "\n",
    "b = B()\n",
    "b.display()"
   ]
  },
  {
   "cell_type": "code",
   "execution_count": 5,
   "metadata": {},
   "outputs": [
    {
     "name": "stdout",
     "output_type": "stream",
     "text": [
      "Rate of intrest = 8.5%\n",
      "Rate of intrest of SBI = 10.5%\n"
     ]
    }
   ],
   "source": [
    "class RBI:\n",
    "    def display(self):\n",
    "        print('Rate of intrest = 8.5%')\n",
    "class SBI(RBI):\n",
    "    def display(self):\n",
    "        RBI.display(self)\n",
    "        print(\"Rate of intrest of SBI = 10.5%\")\n",
    "\n",
    "b = SBI()\n",
    "b.display()"
   ]
  },
  {
   "cell_type": "code",
   "execution_count": 1,
   "metadata": {},
   "outputs": [
    {
     "name": "stdout",
     "output_type": "stream",
     "text": [
      "mobile:  5000\n",
      "laptop:  45000\n",
      "mobile:  15000\n",
      "laptop:  45000\n"
     ]
    }
   ],
   "source": [
    "'''\n",
    "Encapsilation:\n",
    "which is contain dis similar data elemnets and member function at same location which is achieve by class\n",
    "\n",
    "moifiers:\n",
    "private\n",
    "public\n",
    "protected\n",
    "\n",
    "if we write __ at prefix its define as a private mode own class can acess its properties only\n",
    "\n",
    "if we write _ at prefix its define as a protected mode parent and child can access its properties\n",
    "\n",
    "\n",
    "'''\n",
    "class product:\n",
    "    def __init__(self):\n",
    "        self.mobile = 5000\n",
    "        self.__laptop = 45000 #private\n",
    "\n",
    "    def display(self):\n",
    "        print('mobile: ',self.mobile)\n",
    "        print('laptop: ',self.__laptop)\n",
    "\n",
    "obj = product()\n",
    "obj.display()\n",
    "\n",
    "obj.mobile = 15000\n",
    "obj.__laptop = 65000\n",
    "\n",
    "obj.display()\n",
    "\n"
   ]
  },
  {
   "cell_type": "code",
   "execution_count": 5,
   "metadata": {},
   "outputs": [
    {
     "name": "stdout",
     "output_type": "stream",
     "text": [
      "jay\n",
      "20\n",
      "python\n"
     ]
    }
   ],
   "source": [
    "class student:\n",
    "    def sfn(self,firstname):\n",
    "        self.firstname = firstname\n",
    "    \n",
    "    def ss(self,subject):\n",
    "        self.subject = subject\n",
    "\n",
    "    def srn(self,roolno):\n",
    "        self.roolno = roolno\n",
    "\n",
    "    def gfn(self):\n",
    "        return self.firstname \n",
    "\n",
    "    def gs(self):\n",
    "        return self.subject\n",
    "    \n",
    "    def grn(self):\n",
    "        return self.roolno\n",
    "\n",
    "obj = student()\n",
    "obj.sfn('jay')\n",
    "obj.ss('python')\n",
    "obj.srn(20)\n",
    "print(obj.gfn())\n",
    "print(obj.grn())\n",
    "print(obj.gs())"
   ]
  },
  {
   "cell_type": "code",
   "execution_count": 6,
   "metadata": {},
   "outputs": [
    {
     "name": "stdout",
     "output_type": "stream",
     "text": [
      "roi\n"
     ]
    }
   ],
   "source": [
    "''' \n",
    "Abstraction: it represent only few information allocated background information is called abstration\n",
    "\n",
    "abstraction is a concept which is only acheved by abstrat class\n",
    "\n",
    "abstract class: which is conatin only abstraction methos\n",
    "\n",
    "abstract method: which is contain only method declaration not method defination\n",
    "'''\n",
    "from abc import ABC,abstractmethod\n",
    "\n",
    "class RBI(ABC):\n",
    "    @abstractmethod\n",
    "    def roi(self):\n",
    "        pass\n",
    "\n",
    "class SBI(RBI):\n",
    "    def roi(self):\n",
    "        print('roi')\n",
    "    \n",
    "s = SBI()\n",
    "s.roi()"
   ]
  },
  {
   "cell_type": "code",
   "execution_count": 3,
   "metadata": {},
   "outputs": [],
   "source": [
    "'''\n",
    "Tkinter: \n",
    "In built libray in python\n",
    "which is used to build desktop application\n",
    "'''\n",
    "from tkinter import *\n",
    "\n",
    "screen = Tk()\n",
    "screen.title('New')\n",
    "screen.geometry('1980x800')\n",
    "screen.mainloop()"
   ]
  },
  {
   "cell_type": "code",
   "execution_count": 2,
   "metadata": {},
   "outputs": [],
   "source": [
    "from tkinter import *\n",
    "\n",
    "screen = Tk()\n",
    "\n",
    "var_count = IntVar()\n",
    "count = 0\n",
    "\n",
    "def counter(msg):\n",
    "    global count\n",
    "    if msg == 'add':\n",
    "        count+=1\n",
    "    else:\n",
    "        count-=1\n",
    "    var_count.set(count)\n",
    "\n",
    "screen.title('Welcome to App')\n",
    "screen.geometry('1980x1080')\n",
    "\n",
    "btn = Button(screen,text='+',command=lambda:counter('add'),font=('Arial',20,'bold'))\n",
    "btn.place(x=10,y=20)\n",
    "\n",
    "lbl = Label(screen,textvariable=var_count,font=('Arial',20,'bold'))\n",
    "lbl.place(x=80,y=20)\n",
    "\n",
    "btn = Button(screen,text='-',command=lambda:counter('minus'),font=('Arial',20,'bold'))\n",
    "btn.place(x=150,y=20)\n",
    "\n",
    "screen.mainloop()\n"
   ]
  },
  {
   "cell_type": "code",
   "execution_count": null,
   "metadata": {},
   "outputs": [],
   "source": [
    "from tkinter import *\n",
    "\n",
    "screen = Tk()\n",
    "\n",
    "var_count = IntVar()\n",
    "count = 0\n",
    "\n",
    "def counter(msg):\n",
    "    global count\n",
    "    if msg == 'add':\n",
    "        count+=1\n",
    "    else:\n",
    "        count-=1\n",
    "    var_count.set(count)\n",
    "\n",
    "screen.title('Welcome to App')\n",
    "screen.geometry('1980x1080')\n",
    "\n",
    "btn = Button(screen,text='+',command=lambda:counter('add'),font=('Arial',20,'bold'))\n",
    "btn.place(x=10,y=20)\n",
    "\n",
    "lbl = Label(screen,textvariable=var_count,font=('Arial',20,'bold'))\n",
    "lbl.place(x=80,y=20)\n",
    "\n",
    "btn = Button(screen,text='-',command=lambda:counter('minus'),font=('Arial',20,'bold'))\n",
    "btn.place(x=150,y=20)\n",
    "\n",
    "screen.mainloop()\n"
   ]
  },
  {
   "cell_type": "code",
   "execution_count": 1,
   "metadata": {},
   "outputs": [],
   "source": [
    "from tkinter import *\n",
    "import random\n",
    "\n",
    "screen = Tk()\n",
    "\n",
    "var_count = IntVar()\n",
    "var_countcom = IntVar()\n",
    "var_comp_choice = StringVar()\n",
    "var_user_choice = StringVar()\n",
    "choice_computer = 'Null'\n",
    "choice_user = 'Null'\n",
    "var_won = StringVar()\n",
    "won = 'null'\n",
    "count = 0\n",
    "countcom = 0\n",
    "choice = ['Rock','Paper','Scissor']\n",
    "\n",
    "def counter(msg):\n",
    "    global count,countcom,won\n",
    "    if msg == 'Rock':\n",
    "        choice_user = 'ROCK'\n",
    "        rand_choice = random.choice(choice)\n",
    "        if rand_choice == msg:\n",
    "            count = 0\n",
    "            countcom = 0\n",
    "            choice_computer = 'ROCK'\n",
    "            won = 'Draw'\n",
    "        elif rand_choice == 'Paper':\n",
    "            countcom += 1\n",
    "            choice_computer = 'PAPER'\n",
    "            won = 'Computer Won'\n",
    "        elif rand_choice == 'Scissor':\n",
    "            count += 1\n",
    "            won = 'User Won'\n",
    "            choice_computer = 'SCISSOR'\n",
    "    elif msg == 'Paper':\n",
    "        choice_user = 'PAPER'\n",
    "        rand_choice = random.choice(choice)\n",
    "        if rand_choice == msg:\n",
    "            count = 0\n",
    "            countcom = 0\n",
    "            won = 'Draw'\n",
    "            choice_computer = 'PAPER'\n",
    "        elif rand_choice == 'Scissor':\n",
    "            countcom += 1\n",
    "            won = \"Computer Won\"\n",
    "            choice_computer = 'SCISSOR'\n",
    "        elif rand_choice == 'Rock':\n",
    "            count += 1\n",
    "            won = 'User Won'\n",
    "            choice_computer = 'ROCK'\n",
    "    else:\n",
    "        choice_user = 'SCISSOR'\n",
    "        rand_choice = random.choice(choice)\n",
    "        if rand_choice == msg:\n",
    "            count = 0\n",
    "            countcom = 0\n",
    "            won = 'Draw'\n",
    "            choice_computer = 'SCISSOR'\n",
    "        elif rand_choice == 'Rock':\n",
    "            countcom += 1\n",
    "            won = \"Computer Won\"\n",
    "            choice_computer = 'ROCK'\n",
    "        elif rand_choice == 'Paper':\n",
    "            count += 1\n",
    "            won = 'User Won'\n",
    "            choice_computer = 'PAPER'\n",
    "    var_count.set(count)\n",
    "    var_countcom.set(countcom)\n",
    "    var_won.set(won)\n",
    "    var_comp_choice.set(choice_computer)\n",
    "    var_user_choice.set(choice_user)\n",
    "\n",
    "screen.title('Welcome to Game')\n",
    "screen.geometry('1920x1080')\n",
    "\n",
    "btn = Button(screen,text='Rock',command=lambda:counter('Rock'),font=('Arial',20,'bold'))\n",
    "btn.place(x=0,y=20)\n",
    "\n",
    "btn = Button(screen,text='Paper',command=lambda:counter('Paper'),font=('Arial',20,'bold'))\n",
    "btn.place(x=560,y=20)\n",
    "\n",
    "btn = Button(screen,text='Scissor',command=lambda:counter('Paper'),font=('Arial',20,'bold'))\n",
    "btn.place(x=1220,y=20)\n",
    "\n",
    "lbl = Label(screen,text = 'User: ',font=('Arial',20,'bold'))\n",
    "lbl.place(x=0,y=100)\n",
    "\n",
    "lbl = Label(screen,textvariable=var_user_choice,font=('Arial',20,'bold'))\n",
    "lbl.place(x=560,y=100)\n",
    "\n",
    "lbl = Label(screen,textvariable=var_count,font=('Arial',20,'bold'))\n",
    "lbl.place(x=1220,y=100)\n",
    "\n",
    "lbl = Label(screen,text = 'computer: ',font=('Arial',20,'bold'))\n",
    "lbl.place(x=0,y=200)\n",
    "\n",
    "lbl = Label(screen,textvariable=var_comp_choice,font=('Arial',20,'bold'))\n",
    "lbl.place(x=560,y=200)\n",
    "\n",
    "lbl = Label(screen,textvariable=var_countcom,font=('Arial',20,'bold'))\n",
    "lbl.place(x=1220,y=200)\n",
    "\n",
    "lbl = Label(screen,textvariable=var_won,font=('Arial',20,'bold'))\n",
    "lbl.place(x=560,y=560)\n",
    "\n",
    "screen.mainloop()\n"
   ]
  },
  {
   "cell_type": "code",
   "execution_count": 11,
   "metadata": {},
   "outputs": [
    {
     "name": "stdout",
     "output_type": "stream",
     "text": [
      "1\n",
      "<class 'int'>\n"
     ]
    }
   ],
   "source": [
    "f = open('sample','r')\n",
    "d = open('sample','a')\n",
    "# print(f.readline(1))\n",
    "# print(type(f.readline(1)))\n",
    "first = f.readline(1)\n",
    "first = int(first)\n",
    "d.write('4')\n",
    "\n",
    "print(first)\n",
    "print(type(first))\n"
   ]
  },
  {
   "cell_type": "code",
   "execution_count": 1,
   "metadata": {},
   "outputs": [
    {
     "ename": "ModuleNotFoundError",
     "evalue": "No module named 'pymysql'",
     "output_type": "error",
     "traceback": [
      "\u001b[1;31m---------------------------------------------------------------------------\u001b[0m",
      "\u001b[1;31mModuleNotFoundError\u001b[0m                       Traceback (most recent call last)",
      "\u001b[1;32md:\\git_files\\Python-Codes-1\\all_codes\\1.ipynb Cell 1'\u001b[0m in \u001b[0;36m<cell line: 2>\u001b[1;34m()\u001b[0m\n\u001b[0;32m      <a href='vscode-notebook-cell:/d%3A/git_files/Python-Codes-1/all_codes/1.ipynb#ch0000000?line=0'>1</a>\u001b[0m \u001b[39mfrom\u001b[39;00m \u001b[39mtkinter\u001b[39;00m \u001b[39mimport\u001b[39;00m \u001b[39m*\u001b[39m\n\u001b[1;32m----> <a href='vscode-notebook-cell:/d%3A/git_files/Python-Codes-1/all_codes/1.ipynb#ch0000000?line=1'>2</a>\u001b[0m \u001b[39mimport\u001b[39;00m \u001b[39mpymysql\u001b[39;00m\n\u001b[0;32m      <a href='vscode-notebook-cell:/d%3A/git_files/Python-Codes-1/all_codes/1.ipynb#ch0000000?line=3'>4</a>\u001b[0m screen \u001b[39m=\u001b[39m Tk()\n\u001b[0;32m      <a href='vscode-notebook-cell:/d%3A/git_files/Python-Codes-1/all_codes/1.ipynb#ch0000000?line=5'>6</a>\u001b[0m screen\u001b[39m.\u001b[39mgeometry(\u001b[39m'\u001b[39m\u001b[39m1920x1080\u001b[39m\u001b[39m'\u001b[39m)\n",
      "\u001b[1;31mModuleNotFoundError\u001b[0m: No module named 'pymysql'"
     ]
    }
   ],
   "source": [
    "from tkinter import *\n",
    "import pymysql\n",
    "\n",
    "screen = Tk()\n",
    "\n",
    "screen.geometry('1920x1080')\n",
    "screen.title('My Forms')\n",
    "\n",
    "mycon = pymysql.connect(host='localhost',user='root',passwd='')\n",
    "\n",
    "var_firstname = StringVar()\n",
    "var_lastname = StringVar()\n",
    "\n",
    "screen.mainloop()"
   ]
  },
  {
   "cell_type": "code",
   "execution_count": null,
   "metadata": {},
   "outputs": [],
   "source": []
  }
 ],
 "metadata": {
  "kernelspec": {
   "display_name": "Python 3.10.1 64-bit",
   "language": "python",
   "name": "python3"
  },
  "language_info": {
   "codemirror_mode": {
    "name": "ipython",
    "version": 3
   },
   "file_extension": ".py",
   "mimetype": "text/x-python",
   "name": "python",
   "nbconvert_exporter": "python",
   "pygments_lexer": "ipython3",
   "version": "3.10.1"
  },
  "orig_nbformat": 4,
  "vscode": {
   "interpreter": {
    "hash": "369f2c481f4da34e4445cda3fffd2e751bd1c4d706f27375911949ba6bb62e1c"
   }
  }
 },
 "nbformat": 4,
 "nbformat_minor": 2
}
