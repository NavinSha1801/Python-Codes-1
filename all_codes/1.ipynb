{
 "cells": [
  {
   "cell_type": "code",
   "execution_count": 1,
   "metadata": {},
   "outputs": [
    {
     "name": "stdout",
     "output_type": "stream",
     "text": [
      "{10, 11, 12, 13}\n",
      "<class 'set'>\n"
     ]
    }
   ],
   "source": [
    "'''\n",
    "set: set is collection data type which is contain similar and dis-similar data elements at single entity\n",
    "it can contain only unique value (it will remove duplicate elemnts from set)\n",
    "set is unoderable unindexable and imutable\n",
    "'''\n",
    "s = {10,11,12,13}\n",
    "print(s)\n",
    "print(type(s))"
   ]
  },
  {
   "cell_type": "code",
   "execution_count": 2,
   "metadata": {},
   "outputs": [
    {
     "name": "stdout",
     "output_type": "stream",
     "text": [
      "{40, 10, 50, 20, 30}\n",
      "[40, 10, 50, 20, 30]\n"
     ]
    }
   ],
   "source": [
    "li = [10,20,30,40,50,20,30,40]\n",
    "s = set(li)\n",
    "print(s)\n",
    "li = list(s)\n",
    "print(li)\n"
   ]
  },
  {
   "cell_type": "code",
   "execution_count": 6,
   "metadata": {},
   "outputs": [
    {
     "name": "stdout",
     "output_type": "stream",
     "text": [
      "name = Jay\n",
      "subject = Python\n",
      "marks = 89\n",
      "Jay\n",
      "89\n",
      "name\n",
      "subject\n",
      "marks\n",
      "Jay\n",
      "Python\n",
      "89\n"
     ]
    }
   ],
   "source": [
    "'''\n",
    "dictonary is a collection data type\n",
    "which contain key and value pair and represent by {}\n",
    "'''\n",
    "student = {'name': \"Jay\",'subject':'Python',\"marks\":89}\n",
    "for k,v in student.items():\n",
    "    print(f\"{k} = {v}\")\n",
    "print(student['name'])\n",
    "print(student.get(\"marks\"))\n",
    "for key in student.keys():\n",
    "    print(key)\n",
    "for value in student.values():\n",
    "    print(value)"
   ]
  },
  {
   "cell_type": "code",
   "execution_count": 10,
   "metadata": {},
   "outputs": [
    {
     "name": "stdout",
     "output_type": "stream",
     "text": [
      "Which is best programming Language\n",
      "{'a': 'python', 'b': 'java'}\n",
      "Wrong answer\n",
      "Which is framework of python\n",
      "{'a': 'django', 'b': 'springboot'}\n",
      "Wrong answer\n"
     ]
    }
   ],
   "source": [
    "quiz = {\n",
    "    1 : {\n",
    "        \"que\":\"Which is best programming Language\",\n",
    "        \"ans\":{'a':'python','b': 'java'}\n",
    "    },\n",
    "    2: {\n",
    "        \"que\":\"Which is framework of python\",\n",
    "        \"ans\":{'a':'django','b':'springboot'}\n",
    "    },\n",
    "    'ans':{\n",
    "        1:'a',\n",
    "        2:'b'\n",
    "    }\n",
    "}\n",
    "for i in range(1,len(quiz)):\n",
    "    print(quiz[i][\"que\"])\n",
    "    print(quiz[i]['ans'])\n",
    "    ans = input(\"Enter your choicec\").lower()\n",
    "    if ans == quiz['ans'][i]:\n",
    "        print(\"You got the right answer\")\n",
    "    else:\n",
    "        print(\"Wrong answer\")"
   ]
  },
  {
   "cell_type": "markdown",
   "metadata": {},
   "source": [
    "Function 4 categories: \n",
    "\n",
    "there are 4 types :\n",
    "\n",
    "1 with parameters and without return \n",
    "\n",
    "2 with parameters and with return \n",
    "\n",
    "3 without parameters and with return\n",
    "\n",
    "4 withour paramerers and without return"
   ]
  },
  {
   "cell_type": "code",
   "execution_count": 1,
   "metadata": {},
   "outputs": [
    {
     "name": "stdout",
     "output_type": "stream",
     "text": [
      "Hello python!\n"
     ]
    }
   ],
   "source": [
    "def greet(name):\n",
    "    print(f\"Hello {name}!\")\n",
    "name = input(\"Enter your name: \")\n",
    "greet(name)"
   ]
  },
  {
   "cell_type": "code",
   "execution_count": 2,
   "metadata": {},
   "outputs": [
    {
     "name": "stdout",
     "output_type": "stream",
     "text": [
      "\n",
      "        Enter your choice :\n",
      "            1> addition\n",
      "            2> multiplication\n",
      "            3> division\n",
      "            4> substraction\n",
      "20\n"
     ]
    }
   ],
   "source": [
    "def sum(num1,num2):\n",
    "    ans = num1 + num2\n",
    "    print(ans)\n",
    "\n",
    "def mul(num1,num2):\n",
    "    ans = num1*num2\n",
    "    print(ans)\n",
    "\n",
    "def div(num1,num2):\n",
    "    ans = num1/num2\n",
    "    print(ans)\n",
    "\n",
    "def sub(num1,num2):\n",
    "    ans = num1-num2\n",
    "    print(ans)\n",
    "\n",
    "def menu():\n",
    "    print('''\n",
    "        Enter your choice :\n",
    "            1> addition\n",
    "            2> multiplication\n",
    "            3> division\n",
    "            4> substraction''')\n",
    "    choice = int(input(\"Enter your choice: \"))\n",
    "    num1 = int(input(\"Enter number 1: \"))\n",
    "    num2 = int(input(\"Enter number 2: \"))\n",
    "    if choice == 1:\n",
    "        sum(num1,num2)\n",
    "    elif choice == 2:\n",
    "        mul(num1,num2)\n",
    "    elif choice == 3:\n",
    "        div(num1,num2)\n",
    "    elif choice == 4:\n",
    "        sub(num1,num2)\n",
    "    else:\n",
    "        print(\"Invalid input\")\n",
    "menu()"
   ]
  },
  {
   "cell_type": "code",
   "execution_count": 4,
   "metadata": {},
   "outputs": [
    {
     "name": "stdout",
     "output_type": "stream",
     "text": [
      "The given number 2 is even\n"
     ]
    }
   ],
   "source": [
    "def eveodd(num1):\n",
    "    if num1%2:\n",
    "        print(f\"The given number {num1} is odd\")\n",
    "    else:\n",
    "        print(f\"The given number {num1} is even\")\n",
    "num1 = int(input(\"Enter the number: \"))\n",
    "eveodd(num1)"
   ]
  },
  {
   "cell_type": "code",
   "execution_count": 1,
   "metadata": {},
   "outputs": [
    {
     "name": "stdout",
     "output_type": "stream",
     "text": [
      "Even number\n"
     ]
    }
   ],
   "source": [
    "def eveodd():\n",
    "    num = int(input(\"Enter the number: \"))\n",
    "    if num%2:\n",
    "        return \"Odd number\"\n",
    "    else:\n",
    "        return \"Even number\"\n",
    "print(eveodd())"
   ]
  },
  {
   "cell_type": "code",
   "execution_count": 2,
   "metadata": {},
   "outputs": [
    {
     "name": "stdout",
     "output_type": "stream",
     "text": [
      "Even Number\n"
     ]
    }
   ],
   "source": [
    "def eveodd(num):\n",
    "    if num%2:\n",
    "        return \"Odd number\"\n",
    "    else:\n",
    "        return \"Even Number\"\n",
    "\n",
    "num = int(input(\"Enter the number: \"))\n",
    "print(eveodd(num))"
   ]
  },
  {
   "cell_type": "code",
   "execution_count": 8,
   "metadata": {},
   "outputs": [
    {
     "name": "stdout",
     "output_type": "stream",
     "text": [
      "2022-05-28 15:30:27.022674\n",
      "2022-05-28\n",
      "28\n",
      "5\n",
      "2022\n",
      "15:30:27.022674\n",
      "Saturday\n",
      "Sat\n",
      "May\n"
     ]
    }
   ],
   "source": [
    "import datetime as date\n",
    "d = date.datetime.now()\n",
    "print(d)\n",
    "print(d.date())\n",
    "print(d.day)\n",
    "print(d.month)\n",
    "print(d.year)\n",
    "print(d.time())\n",
    "print(d.strftime(\"%A\"))\n",
    "print(d.strftime(\"%a\"))\n",
    "print(d.strftime(\"%B\"))"
   ]
  },
  {
   "cell_type": "code",
   "execution_count": 9,
   "metadata": {},
   "outputs": [
    {
     "name": "stdout",
     "output_type": "stream",
     "text": [
      "Hello navin\n"
     ]
    }
   ],
   "source": [
    "import os\n",
    "name = input(\"Enter your name: \")\n",
    "os.system(\"cls\")\n",
    "print(f\"Hello {name}\")"
   ]
  },
  {
   "cell_type": "code",
   "execution_count": 10,
   "metadata": {},
   "outputs": [
    {
     "name": "stdout",
     "output_type": "stream",
     "text": [
      "10.0.22000\n",
      "Windows-10-10.0.22000-SP0\n",
      "Windows\n",
      "AMD64 Family 25 Model 80 Stepping 0, AuthenticAMD\n"
     ]
    }
   ],
   "source": [
    "import platform\n",
    "print(platform.version())\n",
    "print(platform.platform())\n",
    "print(platform.system())\n",
    "print(platform.processor())"
   ]
  },
  {
   "cell_type": "code",
   "execution_count": 29,
   "metadata": {},
   "outputs": [
    {
     "name": "stdout",
     "output_type": "stream",
     "text": [
      "66\n",
      "c++\n",
      "['c', 'android', 'c++', 'java', 'python']\n"
     ]
    }
   ],
   "source": [
    "import random\n",
    "lst = ['c','c++','java','python','android']\n",
    "print(random.randint(1,100))\n",
    "print(random.choice(lst))\n",
    "random.shuffle(lst)\n",
    "print(lst)"
   ]
  },
  {
   "cell_type": "code",
   "execution_count": 4,
   "metadata": {},
   "outputs": [
    {
     "name": "stdout",
     "output_type": "stream",
     "text": [
      "['CSK', 'RCB', 'KXIP', 'KKR', 'DC', 'SHR', 'LSR', 'RR', 'GT', 'MI']\n",
      "hii\n"
     ]
    }
   ],
   "source": [
    "teams = ['CSK','RCB','KXIP','KKR','DC','SHR','LSR','RR','GT','MI']\n",
    "print(teams)\n",
    "team = input(\"Enter your team among above: \")\n",
    "if team in teams:\n",
    "    print('hii')\n",
    "else:\n",
    "    print(\"Hell\")\n",
    "\n",
    "            "
   ]
  },
  {
   "cell_type": "code",
   "execution_count": 6,
   "metadata": {},
   "outputs": [
    {
     "name": "stdout",
     "output_type": "stream",
     "text": [
      "60\n"
     ]
    }
   ],
   "source": [
    "from mypackages.module import *\n",
    "choice = input(\"Enter your choice: \")\n",
    "num1 = int(input(\"Enter the first number: \"))\n",
    "num2 = int(input(\"Enter 2nd number: \"))\n",
    "if choice == '+':\n",
    "    print(addition(num1,num2))"
   ]
  },
  {
   "cell_type": "code",
   "execution_count": 7,
   "metadata": {},
   "outputs": [
    {
     "name": "stdout",
     "output_type": "stream",
     "text": [
      "hello everyone\n"
     ]
    }
   ],
   "source": [
    "'''\n",
    "file handaling conept: \n",
    "there are 4 modes in file handling\n",
    "r (read)\n",
    "w (write)\n",
    "x (create blank file)\n",
    "a (append)\n",
    "'''\n",
    "f = open('file.txt','r')\n",
    "print(f.read())"
   ]
  },
  {
   "cell_type": "code",
   "execution_count": 8,
   "metadata": {},
   "outputs": [],
   "source": [
    "f = open('file_2.txt','w')\n",
    "f.write('hello everyone')\n",
    "f.close()"
   ]
  },
  {
   "cell_type": "code",
   "execution_count": 10,
   "metadata": {},
   "outputs": [],
   "source": [
    "f = open('file_2.txt','a')\n",
    "f.write('\\n hello world!')\n",
    "f.close()"
   ]
  },
  {
   "cell_type": "code",
   "execution_count": 11,
   "metadata": {},
   "outputs": [],
   "source": [
    "f = open('file_3.txt','a')\n",
    "while True:\n",
    "    name = input(\"Enter student name: \")\n",
    "    f.write(name+'\\n')\n",
    "    again = input(\"Do u want to add more: \")\n",
    "    if again == 'y':\n",
    "        continue\n",
    "    else:\n",
    "        break\n",
    "f.close()"
   ]
  },
  {
   "cell_type": "code",
   "execution_count": 2,
   "metadata": {},
   "outputs": [
    {
     "name": "stdout",
     "output_type": "stream",
     "text": [
      "2\n"
     ]
    }
   ],
   "source": [
    "f = open('file_2.txt','r')\n",
    "l = f.readlines()\n",
    "print(len(l))\n",
    "f.close()"
   ]
  },
  {
   "cell_type": "code",
   "execution_count": 3,
   "metadata": {},
   "outputs": [
    {
     "name": "stdout",
     "output_type": "stream",
     "text": [
      "4\n"
     ]
    }
   ],
   "source": [
    "f = open('file_2.txt','r')\n",
    "data = f.read()\n",
    "\n",
    "words = data.split()\n",
    "print(len(words))\n",
    "\n",
    "f.close()"
   ]
  },
  {
   "cell_type": "code",
   "execution_count": 8,
   "metadata": {},
   "outputs": [
    {
     "name": "stdout",
     "output_type": "stream",
     "text": [
      "folder is already exist\n"
     ]
    }
   ],
   "source": [
    "import os\n",
    "if os.path.exists(\"myfolder\"):\n",
    "    print('folder is already exist')\n",
    "else:\n",
    "    os.mkdir('myfolder')"
   ]
  },
  {
   "cell_type": "code",
   "execution_count": 10,
   "metadata": {},
   "outputs": [
    {
     "name": "stdout",
     "output_type": "stream",
     "text": [
      "Folder not found\n"
     ]
    }
   ],
   "source": [
    "import os\n",
    "\n",
    "if os.path.exists('myfolder'):\n",
    "    os.rmdir('myfolder')\n",
    "else:\n",
    "    print('Folder not found')"
   ]
  },
  {
   "cell_type": "code",
   "execution_count": 2,
   "metadata": {},
   "outputs": [
    {
     "name": "stdout",
     "output_type": "stream",
     "text": [
      "file nahi hai\n"
     ]
    }
   ],
   "source": [
    "import os\n",
    "\n",
    "if os.path.exists('file.txt'):\n",
    "    os.remove('file.txt')\n",
    "else:\n",
    "    print('file nahi hai')"
   ]
  },
  {
   "cell_type": "code",
   "execution_count": 3,
   "metadata": {},
   "outputs": [
    {
     "ename": "NameError",
     "evalue": "name 'a' is not defined",
     "output_type": "error",
     "traceback": [
      "\u001b[1;31m---------------------------------------------------------------------------\u001b[0m",
      "\u001b[1;31mNameError\u001b[0m                                 Traceback (most recent call last)",
      "\u001b[1;32md:\\py codes\\1.ipynb Cell 26'\u001b[0m in \u001b[0;36m<cell line: 11>\u001b[1;34m()\u001b[0m\n\u001b[0;32m      <a href='vscode-notebook-cell:/d%3A/py%20codes/1.ipynb#ch0000027?line=0'>1</a>\u001b[0m \u001b[39m#excpetion : run time errors is called exceptions\u001b[39;00m\n\u001b[0;32m      <a href='vscode-notebook-cell:/d%3A/py%20codes/1.ipynb#ch0000027?line=1'>2</a>\u001b[0m \u001b[39m#exception handalling : try and except\u001b[39;00m\n\u001b[0;32m      <a href='vscode-notebook-cell:/d%3A/py%20codes/1.ipynb#ch0000027?line=2'>3</a>\u001b[0m \u001b[39m'''\u001b[39;00m\n\u001b[0;32m      <a href='vscode-notebook-cell:/d%3A/py%20codes/1.ipynb#ch0000027?line=3'>4</a>\u001b[0m \u001b[39m    syntax\u001b[39;00m\n\u001b[0;32m      <a href='vscode-notebook-cell:/d%3A/py%20codes/1.ipynb#ch0000027?line=4'>5</a>\u001b[0m \u001b[39mtry:\u001b[39;00m\n\u001b[1;32m   (...)\u001b[0m\n\u001b[0;32m      <a href='vscode-notebook-cell:/d%3A/py%20codes/1.ipynb#ch0000027?line=8'>9</a>\u001b[0m \u001b[39mexample\u001b[39;00m\n\u001b[0;32m     <a href='vscode-notebook-cell:/d%3A/py%20codes/1.ipynb#ch0000027?line=9'>10</a>\u001b[0m \u001b[39m'''\u001b[39;00m\n\u001b[1;32m---> <a href='vscode-notebook-cell:/d%3A/py%20codes/1.ipynb#ch0000027?line=10'>11</a>\u001b[0m \u001b[39mprint\u001b[39m(a)\n",
      "\u001b[1;31mNameError\u001b[0m: name 'a' is not defined"
     ]
    }
   ],
   "source": [
    "#excpetion : run time errors is called exceptions\n",
    "#exception handalling : try and except\n",
    "'''\n",
    "    syntax\n",
    "try:\n",
    "    statement\n",
    "except:\n",
    "    statement\n",
    "example\n",
    "'''\n",
    "print(a)"
   ]
  },
  {
   "cell_type": "code",
   "execution_count": 5,
   "metadata": {},
   "outputs": [
    {
     "name": "stdout",
     "output_type": "stream",
     "text": [
      "name is not defined\n"
     ]
    }
   ],
   "source": [
    "try:\n",
    "    print(a)\n",
    "except:\n",
    "    print(\"name is not defined\")\n",
    "\n"
   ]
  },
  {
   "cell_type": "code",
   "execution_count": 8,
   "metadata": {},
   "outputs": [
    {
     "name": "stdout",
     "output_type": "stream",
     "text": [
      "Cant devide by zero\n"
     ]
    }
   ],
   "source": [
    "try:\n",
    "    num1 = int(input(\"Enter number 1:\"))\n",
    "    num2 = int(input(\"Enter number 2:\"))\n",
    "    print(num1/num2)\n",
    "except(ValueError):\n",
    "    print('Value Error')\n",
    "except(ZeroDivisionError):\n",
    "    print(\"Cant devide by zero\")"
   ]
  },
  {
   "cell_type": "markdown",
   "metadata": {},
   "source": [
    "Try: WHich contain error block\n",
    "\n",
    "except: which return statement when exception occurs\n",
    "\n",
    "fianlly: it always occurs - exception invoke or not\n",
    "\n",
    "else: it only execute when there is no exception in block"
   ]
  },
  {
   "cell_type": "code",
   "execution_count": 10,
   "metadata": {},
   "outputs": [
    {
     "name": "stdout",
     "output_type": "stream",
     "text": [
      "Error Code:  <class 'ZeroDivisionError'>\n",
      "Message:  division by zero\n",
      "Visit again\n"
     ]
    }
   ],
   "source": [
    "import sys\n",
    "try:\n",
    "    num1 = int(input(\"Enter number 1:\"))\n",
    "    num2 = int(input(\"Enter number 2:\"))\n",
    "    ans = num1/num2\n",
    "except:\n",
    "    print('Error Code: ',sys.exc_info()[0])\n",
    "    print('Message: ',sys.exc_info()[1])\n",
    "else:\n",
    "    print(ans)\n",
    "finally:\n",
    "    print('Visit again')\n"
   ]
  },
  {
   "cell_type": "code",
   "execution_count": 12,
   "metadata": {},
   "outputs": [
    {
     "name": "stdout",
     "output_type": "stream",
     "text": [
      "Error Code:  invalid literal for int() with base 10: 'l'\n",
      "Message:  <class 'ValueError'>\n",
      "Visit again\n"
     ]
    }
   ],
   "source": [
    "import sys\n",
    "try:\n",
    "    num1 = int(input(\"Enter number 1:\"))\n",
    "    num2 = int(input(\"Enter number 2:\"))\n",
    "    ans = num1/num2\n",
    "except Exception as e:\n",
    "    print('Error Code: ',e)\n",
    "    print('Message: ',sys.exc_info()[0])\n",
    "else:\n",
    "    print(ans)\n",
    "finally:\n",
    "    print('Visit again')\n"
   ]
  },
  {
   "cell_type": "code",
   "execution_count": null,
   "metadata": {},
   "outputs": [],
   "source": []
  }
 ],
 "metadata": {
  "interpreter": {
   "hash": "26de051ba29f2982a8de78e945f0abaf191376122a1563185a90213a26c5da77"
  },
  "kernelspec": {
   "display_name": "Python 3.10.2 64-bit",
   "language": "python",
   "name": "python3"
  },
  "language_info": {
   "codemirror_mode": {
    "name": "ipython",
    "version": 3
   },
   "file_extension": ".py",
   "mimetype": "text/x-python",
   "name": "python",
   "nbconvert_exporter": "python",
   "pygments_lexer": "ipython3",
   "version": "3.10.2"
  },
  "orig_nbformat": 4
 },
 "nbformat": 4,
 "nbformat_minor": 2
}
