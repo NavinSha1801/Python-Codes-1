{
 "cells": [
  {
   "cell_type": "code",
   "execution_count": null,
   "metadata": {},
   "outputs": [],
   "source": [
    "import random\n",
    "random_no = random.randint(0,100)\n",
    "choose_no = input(\"Enter the number: \")\n",
    "while True:\n",
    "    if choose_no.isdigit():\n",
    "        choose_no = (int)(choose_no)\n",
    "        break\n",
    "    else:\n",
    "        print(\"Kindly Enter number only\")\n",
    "        choose_no = input(\"Enter the number: \")\n",
    "while True:\n",
    "    if choose_no>random_no:\n",
    "        print(\"Your Guess is high, Go down a bit\")\n",
    "        choose_no = input(\"Enter the number: \")\n",
    "        while True:\n",
    "            if choose_no.isdigit():\n",
    "                choose_no = (int)(choose_no)\n",
    "                break\n",
    "            else:\n",
    "                print(\"Kindly Enter number only\")\n",
    "                choose_no = input(\"Enter the number: \")\n",
    "    elif choose_no<random_no:\n",
    "        print(\"Your Guess is Low, Raise a bit\")\n",
    "        choose_no = input(\"Enter the number: \")\n",
    "        while True:\n",
    "            if choose_no.isdigit():\n",
    "                choose_no = (int)(choose_no)\n",
    "                break\n",
    "            else:\n",
    "                print(\"Kindly Enter number only\")\n",
    "                choose_no = input(\"Enter the number: \")\n",
    "    else:\n",
    "        print(\"You got this congratulations!!\")\n",
    "        break\n"
   ]
  },
  {
   "cell_type": "markdown",
   "metadata": {},
   "source": [
    "Collections:\n",
    "there are 4 types of collection data types:\n",
    "1> list: List is collection od simillar and dis-simillar data elements\n",
    "    list is represent by []\n",
    "    list is oderable, indexable and mutable\n",
    "2> tuple\n",
    "3> dictionary\n",
    "4> Set\n",
    "ex\n",
    "1> lst = []\n",
    "    print(lst)\n",
    "   lst0 = [1,12,13,15,85,45,65]\n",
    "    print(lst0)\n",
    "   for i in lst0:\n",
    "        print(i,end =\" \")"
   ]
  },
  {
   "cell_type": "code",
   "execution_count": 3,
   "metadata": {},
   "outputs": [
    {
     "name": "stdout",
     "output_type": "stream",
     "text": [
      "224\n",
      "60\n",
      "2\n",
      "[5, 4, 3, 2, 60, 50, 40, 30, 20, 10]\n",
      "[2, 3, 4, 5, 10, 20, 30, 40, 50, 60]\n",
      "[60, 50, 40, 30, 20, 10, 5, 4, 3, 2]\n"
     ]
    }
   ],
   "source": [
    "lst = [10,20,30,40,50,60,2,3,4,5]\n",
    "print(sum(lst))\n",
    "print(max(lst))\n",
    "print(min(lst))\n",
    "lst.reverse()\n",
    "print(lst)\n",
    "lst.sort()\n",
    "print(lst)\n",
    "lst.sort(reverse=True)\n",
    "print(lst)"
   ]
  },
  {
   "cell_type": "code",
   "execution_count": null,
   "metadata": {},
   "outputs": [],
   "source": [
    "lst = []\n",
    "while True:\n",
    "    item = input(\"Enter your products: \")\n",
    "    lst.append(lst)\n",
    "    while True:\n",
    "        choice = input(\"Do u Want to add some more items type \\'y\\' to add or \\'n\\' to exit: \" ).lower()\n",
    "        if choice  == 'y' or choice == 'yes':\n",
    "            break\n",
    "        elif choice == 'n' or choice =='no':\n",
    "            print(lst)\n",
    "            exit()\n",
    "        else:\n",
    "            print(\"Invalid Input\")\n",
    "            choice = input(\"Do u Want to add some more items type \\'y\\' to add or \\'n\\' to exit: \" ).lower()\n"
   ]
  }
 ],
 "metadata": {
  "interpreter": {
   "hash": "b89b5cfaba6639976dc87ff2fec6d58faec662063367e2c229c520fe71072417"
  },
  "kernelspec": {
   "display_name": "Python 3.10.2 64-bit",
   "language": "python",
   "name": "python3"
  },
  "language_info": {
   "codemirror_mode": {
    "name": "ipython",
    "version": 3
   },
   "file_extension": ".py",
   "mimetype": "text/x-python",
   "name": "python",
   "nbconvert_exporter": "python",
   "pygments_lexer": "ipython3",
   "version": "3.10.2"
  },
  "orig_nbformat": 4
 },
 "nbformat": 4,
 "nbformat_minor": 2
}
