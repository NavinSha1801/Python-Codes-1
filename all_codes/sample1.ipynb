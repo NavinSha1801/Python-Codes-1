{
 "cells": [
  {
   "cell_type": "code",
   "execution_count": null,
   "metadata": {},
   "outputs": [],
   "source": [
    "lst0 = [1,2,3,4,5]\n",
    "lst1 = ['maths','python','rugby']\n",
    "lst2 = ['react']\n",
    "lst0.extend([lst1,lst2])\n",
    "print(lst0)"
   ]
  },
  {
   "cell_type": "code",
   "execution_count": 2,
   "metadata": {},
   "outputs": [
    {
     "name": "stdout",
     "output_type": "stream",
     "text": [
      "[1, 2, 3, 4, 5]\n"
     ]
    }
   ],
   "source": [
    "marks = [1,2,3,5]\n",
    "marks.insert(3,4)\n",
    "print(marks)"
   ]
  },
  {
   "cell_type": "code",
   "execution_count": 5,
   "metadata": {},
   "outputs": [
    {
     "name": "stdout",
     "output_type": "stream",
     "text": [
      "[2, 3, 4, 5, 6, 7]\n",
      "[2, 3, 4, 5, 6]\n",
      "[3, 4, 5, 6]\n",
      "[]\n"
     ]
    }
   ],
   "source": [
    "\"\"\"\n",
    "1) remove: to remove element from the list\n",
    "2) pop : to remove last element from the list or specific index\n",
    "3) clear : it will remove all elements from the list\n",
    "4) del : it will completely delete the list from the memeory\n",
    "\"\"\"\n",
    "l1 = [1,2,3,4,5,6,7]\n",
    "l1.remove(1)\n",
    "print(l1)\n",
    "l1.pop()\n",
    "print(l1)\n",
    "l1.pop(0)\n",
    "print(l1)\n",
    "l1.clear()\n",
    "print(l1)\n",
    "del(l1)"
   ]
  },
  {
   "cell_type": "code",
   "execution_count": null,
   "metadata": {},
   "outputs": [],
   "source": []
  }
 ],
 "metadata": {
  "interpreter": {
   "hash": "26de051ba29f2982a8de78e945f0abaf191376122a1563185a90213a26c5da77"
  },
  "kernelspec": {
   "display_name": "Python 3.10.2 64-bit",
   "language": "python",
   "name": "python3"
  },
  "language_info": {
   "codemirror_mode": {
    "name": "ipython",
    "version": 3
   },
   "file_extension": ".py",
   "mimetype": "text/x-python",
   "name": "python",
   "nbconvert_exporter": "python",
   "pygments_lexer": "ipython3",
   "version": "3.10.2"
  },
  "orig_nbformat": 4
 },
 "nbformat": 4,
 "nbformat_minor": 2
}
